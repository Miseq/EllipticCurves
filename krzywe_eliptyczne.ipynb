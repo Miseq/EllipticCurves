{
  "nbformat": 4,
  "nbformat_minor": 0,
  "metadata": {
    "colab": {
      "name": "krzywe_eliptyczne.ipynb",
      "provenance": [],
      "collapsed_sections": [],
      "include_colab_link": true
    },
    "kernelspec": {
      "name": "python3",
      "display_name": "Python 3"
    },
    "widgets": {
      "application/vnd.jupyter.widget-state+json": {
        "0fe8dcb6fa904907bc8bf379e3e0e536": {
          "model_module": "@jupyter-widgets/controls",
          "model_name": "VBoxModel",
          "state": {
            "_view_name": "VBoxView",
            "_dom_classes": [
              "widget-interact"
            ],
            "_model_name": "VBoxModel",
            "_view_module": "@jupyter-widgets/controls",
            "_model_module_version": "1.5.0",
            "_view_count": null,
            "_view_module_version": "1.5.0",
            "box_style": "",
            "layout": "IPY_MODEL_6b3986afc6594efb88e8da8b2eb6368f",
            "_model_module": "@jupyter-widgets/controls",
            "children": [
              "IPY_MODEL_6deedc638406423abcde2210f1e3addc",
              "IPY_MODEL_642a01268b9d454da09d218c6d446dc5",
              "IPY_MODEL_2d58d73c76104635835b5e815dcbbe48"
            ]
          }
        },
        "6b3986afc6594efb88e8da8b2eb6368f": {
          "model_module": "@jupyter-widgets/base",
          "model_name": "LayoutModel",
          "state": {
            "_view_name": "LayoutView",
            "grid_template_rows": null,
            "right": null,
            "justify_content": null,
            "_view_module": "@jupyter-widgets/base",
            "overflow": null,
            "_model_module_version": "1.2.0",
            "_view_count": null,
            "flex_flow": null,
            "width": null,
            "min_width": null,
            "border": null,
            "align_items": null,
            "bottom": null,
            "_model_module": "@jupyter-widgets/base",
            "top": null,
            "grid_column": null,
            "overflow_y": null,
            "overflow_x": null,
            "grid_auto_flow": null,
            "grid_area": null,
            "grid_template_columns": null,
            "flex": null,
            "_model_name": "LayoutModel",
            "justify_items": null,
            "grid_row": null,
            "max_height": null,
            "align_content": null,
            "visibility": null,
            "align_self": null,
            "height": null,
            "min_height": null,
            "padding": null,
            "grid_auto_rows": null,
            "grid_gap": null,
            "max_width": null,
            "order": null,
            "_view_module_version": "1.2.0",
            "grid_template_areas": null,
            "object_position": null,
            "object_fit": null,
            "grid_auto_columns": null,
            "margin": null,
            "display": null,
            "left": null
          }
        },
        "6deedc638406423abcde2210f1e3addc": {
          "model_module": "@jupyter-widgets/controls",
          "model_name": "FloatSliderModel",
          "state": {
            "_view_name": "FloatSliderView",
            "style": "IPY_MODEL_26f4c562ace4430f96a66e248385649c",
            "_dom_classes": [],
            "description": "a",
            "step": 0.1,
            "_model_name": "FloatSliderModel",
            "orientation": "horizontal",
            "max": 5,
            "_view_module": "@jupyter-widgets/controls",
            "_model_module_version": "1.5.0",
            "value": -5,
            "_view_count": null,
            "disabled": false,
            "_view_module_version": "1.5.0",
            "min": -5,
            "continuous_update": true,
            "readout_format": ".2f",
            "description_tooltip": null,
            "readout": true,
            "_model_module": "@jupyter-widgets/controls",
            "layout": "IPY_MODEL_a18ce90cdf034e54ba221316e87fd651"
          }
        },
        "642a01268b9d454da09d218c6d446dc5": {
          "model_module": "@jupyter-widgets/controls",
          "model_name": "FloatSliderModel",
          "state": {
            "_view_name": "FloatSliderView",
            "style": "IPY_MODEL_4e677f14bc5f40c2ab6696409a9f461c",
            "_dom_classes": [],
            "description": "b",
            "step": 0.1,
            "_model_name": "FloatSliderModel",
            "orientation": "horizontal",
            "max": 5,
            "_view_module": "@jupyter-widgets/controls",
            "_model_module_version": "1.5.0",
            "value": 2.1,
            "_view_count": null,
            "disabled": false,
            "_view_module_version": "1.5.0",
            "min": -5,
            "continuous_update": true,
            "readout_format": ".2f",
            "description_tooltip": null,
            "readout": true,
            "_model_module": "@jupyter-widgets/controls",
            "layout": "IPY_MODEL_53545be97480456c8c73946eb7e1e7fa"
          }
        },
        "2d58d73c76104635835b5e815dcbbe48": {
          "model_module": "@jupyter-widgets/output",
          "model_name": "OutputModel",
          "state": {
            "_view_name": "OutputView",
            "msg_id": "",
            "_dom_classes": [],
            "_model_name": "OutputModel",
            "outputs": [
              {
                "output_type": "display_data",
                "metadata": {
                  "tags": [],
                  "needs_background": "light"
                },
                "image/png": "iVBORw0KGgoAAAANSUhEUgAAAXIAAAEMCAYAAADZDD24AAAABHNCSVQICAgIfAhkiAAAAAlwSFlzAAALEgAACxIB0t1+/AAAADh0RVh0U29mdHdhcmUAbWF0cGxvdGxpYiB2ZXJzaW9uMy4yLjEsIGh0dHA6Ly9tYXRwbG90bGliLm9yZy+j8jraAAAgAElEQVR4nO3dd3gU1R7G8e/JJoFACiUktAgIUkXA0DtIr9JBBRGvKIqC4pXesWDvqBdRegBpgnRpggiEJh3pAUIIPYH0nPtHgiDSs9mzO/v7PM8+D0k2M28Oy8tk9swcpbVGCCGE6/IwHUAIIUTGSJELIYSLkyIXQggXJ0UuhBAuTopcCCFcnBS5EEK4OClyIYRwcVLkwm6UUpWVUhuUUmuVUtOVUl4O2GewUup3pdQapdRKpVS+zN6nEM5GyQVBwl7SS/Si1jpOKfUusEVr/VMm79MGaK11qlKqO1BQaz0mM/cphLPxNB1AWIfWOvKGDxOBVAfsM+WGD/2A3Zm9TyGcjZxaEXanlCoENAIWOGh/5ZVSG4HewFY7bG+1UipeKRWb/tif8ZQZzpRFKfW9UuqYUipGKbVdKdX0Ds/vrZQKV0olKKV+dGBUYYAUubArpZQ/MBnorrVOcsQ+tdbbtdZVgKHAQDtttrfW2jf9UcJO27wtpdQIpdSIOzzFE4gA6gABwBBgplKq8G2efwoYA0ywX0rhrKTIxX1RSvkqpVJufFNRKfWoUipSKeUHhAEjtdZ2O4pVSr2vlJp3w8cfKKV+VUp5K6W8b3jqJeCqvfb7oO6U90G3qbW+orUeobU+qrVO1VovBI4Aobd5/hyt9Tzg3IPuU7gOKXJxX7TWscA+4PEbPv0e8A7wJFAFGJp+eqLTrbahlFqolLp4m8fCW3zLWKCeUqqCUuoloAnQVmudCJRPnyWzCugLfGCnH/VdpdRZpdR6pVTd+/zeO+W1C6VUMFAceU9AIG92igezmbQi/0UpVRsozfWimny3b9Zat7ifnWmtzymlPgEmknZaoabW+lL61zYBte8z/930B/aQ9oZtZ2CBUqq81vrQjU9SSq0A1mmtR9xrXntIn9Y5FZiotd5nr+0K1yVH5OJBXCtygPeBofY82ryNbUBZYKDWOuJ+vjH9twN9m8e6m5+vtd6otY7RWidorScC64Fmt9j0D8DKB817428mwABgwF1+M0Ep5UHaf5aJpL25K4QckYsHshl4SynVDsgKTLufb1ZKLQZq3ebLv2mtm970/LLAONKOcHvc7/601nXv5/m32gSgbrHdqbd68r3mvfE3k2tvdN58dH/TdhXwPRAMNHPUm8nC+UmRiwexA8gLfAT00vd5VdnNRX0nSqkCpE1jfAlYARxRStXVWq++n33ex/5ykHaefw2QDHQi7dRNHyfIOw4oBTTQWsfdJYcnaf++bYBNKZUVSNZaJ9shh3AycmpF3DetdQKwEziqtV6cWftJn8q4CPhYa/2z1voqaW9mvp1Z+wS8SJu2Fw2cBV4FntRaHzCZN31u/otAeeD0DXPcn77hOYuVUoPSPxwCxJF2yuaZ9D8PyWgO4ZzkEn1x39Kn0R0EOmqt/zCdRwh3J0fk4kEMB9ZLiQvhHKTIxT1TSj2ulLpE2jnjV03nEUKkkVMrQgjh4uSIXAghXJwUuRBCuDgj88gDAwN14cKFTez6b1euXCF79uxGMzgLGYvrZCyuc9WxSE5MJvJwFEEPBZIlWxa7bNNZxmLLli1ntdZ5bv68kSIvXLgw4eHhJnb9t9WrV1O3bl2jGZyFjMV1MhbXuepYfNbrO5bsX8nEJV8Q9NC/Ou+BOMtYKKWO3erzcmpFCGEZUceiWTJhJU161LdbibsCKXIhhGVMGjkT5eFBl0FtTUdxKClyIYQlHN93khWT1tDq5cYEhQSajuNQUuRCCEuYNGIGWbJlofOAJ01HcTgpciGEyzu04yhrZm6gbZ/m5MgTYDqOw0mRCyFc3uSRM8kekI12b9zX4lOWIUUuhHBpf209zPp5m2nXtwV+OX1NxzFCilwI4dJ+HBaGX87stO17q9X43IMUuRDCZe38bS+bFm2jU/82ZA8wf+WlKVLkQgiXpLXm+0FTyZ0/J617NzEdxygpciGES9q8ZDu71+/n6SHtyWqne6q4KilyIYTL0Vrz47Aw8hYJokmPeqbjGCdFLoRwORt+DuevLYd5Zmh7vLy9TMcxTopcCOFSUlNTmThiBvmL5aXBM7VNx3EKUuRCCJeyOmw9h3cco9vwjtg8babjOAUpciGEy0hKTOLHYTN4uFwh6nWpYTqO05AiF0K4jCUTVhF5OIoebz+Fh4fU1zV2GwmllE0ptU0ptdBe2xRCiGsS4hKYMvonytQoQeWmFUzHcSr2/C+tD7DXjtsTQoi/LRi3jPORF3huTBeUUqbjOBW7FLlSqiDQHBhvj+0JIcSN4q7EM2PsPCo8UZZydcqYjuN07LX48qfAW4Df7Z6glOoJ9AQIDg5m9erVdtr1g4mNjTWewVnIWFwnY3GdM43FuinhXIy+zGNPFjeSyZnG4pa01hl6AC2Ar9P/XBdYeLfvCQ0N1aatWrXKdASnIWNxnYzFdc4yFhejL+lW/l31sCfHGsvgLGMBhOtbdKo9Tq3UAFoppY4CYUB9pdQUO2xXCCGY/u5c4q/E0+PtLqajOK0MF7nWeqDWuqDWujDQGViptX4mw8mEEG7vTMRZfv56KQ271aVQ6RDTcZyWTMQUQjitaWNmo1NT6Tq8g+koTs1eb3YCoLVeDay25zaFEO4p8nAUS35YRfOeDQgulMd0HKcmR+RCCKc0efQsPGwedBnU1nQUpydFLoRwOkd2HmPFpLU82bsJgflzmY7j9KTIhRBO5/tB08gekI3OA9uYjuISpMiFEE5l17q9bPxlK536P4l/rtteYyhuIEUuhHAaWmsmDJ5Orrw5ePLVpqbjuAwpciGE09iy/E92/raXpwa3c/sFle+HFLkQwilorZk4LIyghwJp+p8nTMdxKVLkQginsG7uJvZtOsgzQ9vjnUUWVL4fUuRCCONSklOYMGgqD5UqQKNn65qO43KkyIUQxi2ZsJITByJ5/t2nZUHlByBFLoQw6toSbqWrl6Bay4qm47gkKXIhhFELxi3j7Mnz9HhblnB7UFLkQghj4mLjmDF2Ho83kCXcMkKKXAhhzJzPFnEx+jLPjuxkOopLkyIXQhhxMfoSM9+fT/XWlShdrYTpOC5NilwIYcT0d9KXcHvnKdNRXJ4UuRDC4c4cj2bBuKU06l6PQqUKmo7j8qTIhRAON3nUTwCyhJudSJELIRzq5MFIlk1cTYuXGhEUEmg6jiVIkQshHGrK6J/w8vak84AnTUexDClyIYTDHNpxlF+n/EbrV5qQK29O03EsQ4pcCOEwEwbLEm6ZQYpcCOEQf67dw6ZF2+g8oA1+OX1Nx7EUKXIhRKbTWvPj0DBy5ctJ695NTMexHClyIUSm+3sJt0FtZQm3TOBpOoCwhqTEJI7tOcHpI2c4feQMUUejib8ST1JSMsmJydg8bfjn9sM/tx85ggIIKZGfQmVCyJHHX+54Z3FaayaPnEmekNyyhFsmkSIXD0Rrzb5NBwlfsp0/1+5m7x9/kRCX+PfXs/n5kD0gGzYvG17eniQlJnP5XAxXL8f9YzsBgX4Ur1SMcnXKUL7+oxSrUBibTRYWsJJNi7exZ8MBXvv6BVnCLZNIkYv7cv70BVZMXsuSH1YRse8kSimKli9MsxcaUKZ6CfIXy0veIkG3fTMrOSmZ86cvErHvJMd2n+DIruPs2bCf8Yu3AeCf24+abSpTp2N1ytUtI6vFuLjU1FS+HziV/MXy0qRHPdNxLEuKXNyTMxFnmTZmNkt+WEVKcgplapTgjf+9RM22Ve5rBoKnlydBIYEEhQQS2rDc358/f/oC21ft5o+F4awKW8+i8b+SI48/DbrWocVLDSlQLF9m/Fgik62avp4jO48zaFpfvLzlaDyzSJGLO4q5EEvYu3OZ+8VidGoqzXs24MlXmxJSooBd95Mrb07qd6lJ/S41SYhLYNPi7ayc9htzP1/E7E8WUqlpedr1bUGFJ8rKOXUXkZKcwqQRM3i4XCHqdKxmOo6lSZGL29q8dDsfPf815yMv0qBbbZ4d0YngQnkyfb9ZfLJQq20VarWtwrnICyz6bgULv11G/0ajKVnlEZ4Z0o7KzR6XQndyyyev5dShKEbN74+Hh0yQy0wyuuJfEuMT+eq1CQxq+ja+ObLz5aZ3eeuH3g4p8ZvlzpeTrsM7MPnI1/T9picXoy4ypOV7vFp1IH+u3ePwPOLeJCclM3XMTxSvWJSqLUJNx7E8KXLxD9EnzvFqtUHM+3IxbV5rxtfhYykeWtR0LLyzeNG8Z0N+2P85/cb34vzpi/SrO5xRHT8i8kiU6XjiJiunreP0kTM8M7S9/ObkAFLk4m/H9kTQp/pgTh8+w5iFA3n50+fwzuptOtY/eHp50qRHfSbs/YxnR3Zi86JtPF+qL5NGzCQpMcl0PAEkJiQxeeRMilUoIkfjDpLhIldKhSilViml9iildiul+tgjmHCsfZv+4vXaw0hJTuHjtaOo0uxx05HuKGu2LDwztD0/7P+Mmu2qMHnULF4O7c/ejX+Zjub2Fo//ldNHo+nxzlNyNO4g9jgiTwb6aa1LA1WBV5RSpe2wXeEgJ3ZF8t8nRpI9IBuf/DaaouUKm450zwIL5GbQ1L6MWTCAK5eu0qf6YL59cxKJCXJ0bkJCXALT3plD2VqlqNio3N2/QdhFhotcax2ptd6a/ucYYC9g37lpItOcPBjJzCGLyJ0/F5/8Npr8RfOajvRAqjQP5X+7PqbZCw346eMFvFZtEBH7T5qO5XYW/e9Xzkde4NlRneRo3IHseo5cKVUYqABstOd2Rea4fD6GIS3eBeDtXwYSmD+X4UQZk90/G32/6cnIeW8RHXGOl0P7s2TCSrTWpqO5hcT4RGa8P4/H6pSmXJ0ypuO4FWWvF7lSyhdYA7yttZ5zi6/3BHoCBAcHh4aFhdllvw8qNjYWX1/3vSdyakoqYQMWcPzPU7QZ3YgSlc3PTLGny9GxLHhvBUe3naR8s9I0fq02nt53v9zf3V8XN7rfsdi6cDeLP17NUx+2osjjIZmYzPGc5XVRr169LVrriv/6gtY6ww/AC1gKvHEvzw8NDdWmrVq1ynQEo77pN1E3UO314gkrLTsWycnJ+vtBU3UD1V73rjpQR584e9fvsepYPIj7GYukxCTdrdgr+pXK/XVqamrmhTLEWV4XQLi+RafaY9aKAr4H9mqtP87o9kTm27F6Nz99vICWLzWiyXPWvZGRzWajx9tPMXTmGxzddZzeVQZyYMsh07EsafmkNZw6FMVTg9vJuXED7HGOvAbQFaivlNqe/mhmh+2KTBB3JZ6P/jOO/EWD6flhN9NxHKJ2+2p8/vvb2Dxt9KsznI2/bDEdyVKSk5KZ9vZsSlQqSrWW//6tX2Q+e8xaWae1Vlrrx7TW5dMfi+wRTtjfpOEziTwcxRv/6+VWK7UUKVuIL/54h5BSBRjWeixLJqw0HckyVkxey+mj0XQd1kGOxg2RKzvdyMHtR5jz2S80+88TlKvrfrMKcuXNyUerRvB4w8f46D/jmPH+fNORXF5KSgoz3p9HsQpFqOzkF5FZmRS5m0hNTeXzl/+Hfy5fnn/vadNxjPHx9WHU/P7U7VSd8QOm8OPQMJmemAG/z9vMiQORdO7/pByNGyS3sXUT6+ZsZO8ff/HmhJfxz+VnOo5RXt5eDJjyGlmzZ2Xq27MB5AKWB/TTxwvI93AwNdtVMR3FrUmRu4HU1FQmj5pFSMkCNOha23Qcp2Cz2Xj9uxdRSqWVuYLuozqbjuVS9mzYz54NB3jlsx6yzqphUuRuYMPP4RzdFcHAKa/JP7gbeHh40PfbnmitmTpmNtn8fAiqFGA6lsuY/t5c/HL50vi5uqajuD05R25xWmumvzuH/EWDqdOxuuk4TudamdftVJ3/9Z/CtoW7TUdyCUd2HuOPBVto81ozfHx9TMdxe1LkFvfnmj3s33yIDm+2lhXpb8Nms/HWxN5UalqBxZ+ukXnm92DWRwvImj0LrXs3MR1FIEVuebM/XUhAoB8Nu8m58Tvx8vZi6IzXCS4ayJjOn8gVoHdwLvICq6avo3H3em7/xrmzkCK3sMjDUfyxYAstXmxEFh/3ufjnQfn4+tDxneb45/ZjWOuxnIu8YDqSU1r4zTJSklNp00cu4HYWUuQWtmj8rygPRYuXGpqO4jL8cmdn1Pz+XLl4lVHtP5QFKm6SnJTMovG/UrFJeQoUy2c6jkgnRW5RWmtWTV9HaMPHCCyQ23Qcl1K0XGH+++Mr7NlwgK/7/GA6jlPZsGAL5yMv0PKlRqajiBtIkVvUvk0HiToWTb3ONU1HcUm121ej439b88t3y1k5fZ3pOE5j0f+Wkzt/Tio3q2A6iriBFLlFrZ21AU8vG9Vayd3oHtRzYzpTunoJPn3xW04ejDQdx7jj+04SvnQHLV5sJNcjOBkpcgvSWvP7/E1UeKIsvjmym47jsjy9PBk8vS82Txtju31BSnKK6UhGLfpuOZ5eNpr3bGA6iriJFLkFHd93klOHoqjWqpLpKC4vKCSQPuNeYO8ffzH93bmm4xiTGJ/IsklrqNGmMjmDc5iOI24iRW5BmxZtA6BKc7mtqD3U7VSDel1qMHXMTxzbE2E6jhEbFmwh5nwsTZ9/wnQUcQtS5BYUvmw7hUoXJCgk0HQUy+j1yXP4+Pnw8QvfkJqaajqOw62YvIbc+XNSvv6jpqOIW5Ait5jE+ER2/baXxxs8ZjqKpeQMCuDFD7uxZ8MBlk9aYzqOQ8VciGXzku3U71JT3uR0UlLkFrNv00ES45PkyCkTNOxWh5JVHuH7gVO5cumK6TgO8/v8zaQkp8hN15yYFLnF7PxtLwBla5UynMR6PDw86P3F81yIukTYe/NMx3GY9fM2EfRQIMUrFjUdRdyGFLnF7Nmwn0KlC+KX09d0FEsqUbEo9brUYO7ni9ziXiwJcQlsW7GTqi1CZQUlJyZFbiFaa/ZvOkjJyo+YjmJpz47sRHJSCjPGWv+ofMuyP4m/mkD11jKV1ZlJkVvIhaiLXDobQ9HyhU1HsbQCxfJR/6maLB7/K5fPxZiOk6k2/LyZ7AHZKFe3jOko4g6kyC3k6O4TABQqE2I4ifV16NeS+KsJLPhmmekomUanajYu2kqlphXw9JJVIZ2ZFLmFnNh/CoCHShUwnMT6ipQtRIUnyrJ4/K+kpFjz0v3oo+e5EHWJ0IblTEcRdyFFbiEnDpwia/Ys5M6X03QUt9C8Z0OijkUTvmS76SiZ4ui2tN/wKshUVqcnRW4hkYejyPdwsMwucJAaT1YiINCPFVN/Mx0lU5zYFUlwoTwEF8pjOoq4CylyC4k6Fk3eIkGmY7gNTy9ParWryh8/hxMXG2c6jt2d3BtFySrFTMcQ90CK3ELOHD9LnoKyGpAj1elYnfirCWz7dZfpKHZ1+VwMl8/EUjxULgJyBVLkFpEQl8CVS1fJnT+X6ShupUyNEmTNnoXwpdY6T350d9pdHouUfchwEnEvpMgt4vzpiwDkyiv3inYkL28vytUtw/ZV1joiP773JACFShc0nETcCylyi4g5HwuAf6Cf4STup1SV4kTsP2WpG2lFHo7C5uVBoJyqcwlS5Bbxd5HnknusOFrxig8DcHDbUbNB7Cjq2Bn8g/zw8JCKcAXyt2QRVy+nzZrI5p/NcBL3E1Iy7QKskwdPG05iPxeiLuGbS15LrkKK3CLiYuMB8PHLajiJ+8kTkhtPLxuRh6xT5BfPXCJbDh/TMcQ9skuRK6WaKKX2K6UOKqUG2GOb4v4kxicBkMXH23AS92Oz2cgRFMDFM5dMR7Gbq5fjyJJdXkuuIsNFrpSyAV8BTYHSQBelVOmMblfcn6SEtCKXmxuZ4ZszOzEXYk3HsJv4Kwl4Z/UyHUPcI3sckVcGDmqtD2utE4EwoLUdtivug07VAHjY5GyZCVl8vP/+rcgKUpJTsHnJa8lV2OPwrQAQccPHJ4AqNz9JKdUT6AkQHBzM6tWr7bDrBxcbG2s8gz0dPHgQgHXr1pHVN8t9fa/VxiIjHnQsYmJiSFJJlhnHlJQUEhOt8/NklLP/G3HY7+Fa6++A7wAqVqyo69at66hd39Lq1asxncGeLvx5leWso3r16vjnur+55FYbi4x40LGYnmUhQcGBlhnHT71/wNPmaZmfJ6Oc/d+IPX53OgncuJJBwfTPCQfy9E77PzklyZr3xnZ2Medj8bPQHP4s2bJY6lSR1dmjyDcDjyiliiilvIHOwM922K64D15Z0t6YSohLNJzE/WituRR9mYDc/qaj2E02v6wkXpHXkqvI8KkVrXWyUqo3sBSwARO01rsznEzcFx/ftPnj1+aTC8c5F3mBxPgk8j0cbDqK3QTk8Sf2knVm4VidXc6Ra60XAYvssS3xYLKlXwh07QpP4TgnD0QCkL9YXsNJ7CdncA6itpwxHUPcI5lfZBHXzs/GWmgus6s4EH4IgKLlC5sNYkdBIYFciopBa206irgHUuQWca3IL52NMZzE/ezbfJDgQnnIGRRgOord5Hs4mKT4ZC5EXTQdRdwDKXKLyBmcdh/yC1HWuUzcFaSkpLB95S4eq2Oti5lDSuYHrt+XXDg3KXKLyObnQ9bsWTh36rzpKG7l4NYjXD4XQ2jDcqaj2FXhR9NWBjq6K+IuzxTOQIrcQvKEBHL25DnTMdzK2p/+wOZpo2JjaxV5rrw5yJ7ThwNbD5mOIu6BFLmFBBcK5PTRaNMx3EZqaiprZv7O4w0fIyDQOnPIAZRS5C8ZzL6NB01HEfdAitxC8hUJJvJQlMw0cJDtK3cRdSyaJ56qZTpKpihQJi8R+05yMVred3F2UuQWUuCRfMRevMLlczJzxREWfrsM/9x+1Gr3r3vEWULhCmkrH+1YvcdwEnE3UuQWUrBE2kyDiH0y0yCznTkeze/zw2n0bF28s1pzAYZ8xYPI5u9D+NLtpqOIu5Ait5DCZdLuXXZ09wnDSaxv9ie/oLWmzWtNTUfJNB42Dyo2Ls+mRVtJTU01HUfcgRS5hQQ9FEg2Px8O7zhqOoqlXThziUXjV1Cvcw2CHspjOk6mqtayIudPX2T/Zpm94sykyC1EKUXxig+zb7PMNMhM096eTWJ8Ek8PaWc6Sqar2iIUm6eNdXM2mo4i7kCK3GJKVS3O4R3HiLsid0HMDJGHo/jl2+U0erYuISUKmI6T6XxzZKds7VJs/GWL6SjiDqTILaZsrVKkJKewd8MB01EsadwbP2LzsvHsyI6mozhMjdaVObbnBMflTXSnJUVuMWVqlMTD5sH2VbtMR7GczUu3s+HncJ4e3I7AArlNx3GYmm0rA7B21gbDScTtSJFbTDY/H0pWLsbWFX+ajmIpcVfi+fzl/1HgkXy0fb2F6TgOFVggN2VrlWLltN/kYjMnJUVuQRUbledA+GEunb1sOoplTBo+k9NHzvD6dy/inb6snjtp0LUOEftPsV/eSHdKUuQWVKlpebTWbF4iF3LYw59r9zD7k4U079mQcnXKmI5jRJ0OVcni482S71eajiJuQYrcgopXLEquvDnYsCDcdBSXd+XSFcZ2+4J8RYN58cOupuMYkz0gO3U6VWfl9HVcjZHlBJ2NFLkFeXh4UK1lRTYv3kZCXILpOC5La83HPb/l7Mnz9J/0Kj6+PqYjGdXixUbExcazfNIa01HETaTILapW+6rExcbL6ZUMWDBuGWtnbeC5MV0oXbW46TjGlaxcjJKVizH/y8XypqeTkSK3qPL1HiUg0I81M383HcUl7dmwn2/e+JHKzSrQ8b+tTMdxCkopmvdsSMT+U+xev890HHEDKXKLsnnaqN2hOr/P30zMhVjTcVxK9IlzjGj7AYEFc9N/0qt4eMg/k2vqdKpONn8fFnyzzHQUcQN5hVpYsxeeIDE+iWU/rjYdxWUkxiUxvM37xF9JYNT8/vjn8jMdyan4ZM9Ko251+e2nP7gQddF0HJFOitzCipUvwqM1SzLvi0WkpKSYjuP0UlJSmDdmGYe2HWHQtL5/3xZY/FOrVxqTlJjMgnFyVO4spMgtrm3fFpw+Gs36uZtMR3FqWmu+enUCf204yiufP0/VFqGmIzmtkBIFqNoilAXjlsqsKCchRW5x1VtXJH+xvISNnSczDe7gx6FhLPhmGdU6V6DVy41Nx3F67fu15GL0ZZZMWGU6ikCK3PJsNhud3nqSv7YcZstyuf/Krcx4fz7T3plDs/88Qb0XqpmO4xIeq12a0tWKM+vDn0lOSjYdx+1JkbuBBl1rk6dgbqaMniVH5TeZ9eHPjB8whbqda/DauBdQSpmO5BKUUnQZ2JaoY9GsmSl3RTRNitwNeGfxosvANuxev18uELrBrA9/5ru3JlOnYzUGTHoVm81mOpJLqdysAiElCzD7kwVygGCYFLmbaNyjPvmL5eXrvj+QGJ9oOo5RWmt+HBb2d4kPnNIHm6eU+P3y8PCgXd/m/LX1CNtWyv3vTZIidxPeWbx47av/cPKvSMLem2c6jjEpKSl80ft7po6ZTZPn6kmJZ1DDbnXIlTcHM8bONR3FrUmRu5HQhuWo16UGYe/N5ejuCNNxHC4hLoExnT5hwbildPxva94Y30tKPIO8s3rT7vUWbF2xk70b/zIdx21JkbuZXp88h4+fDx89/7VbXSR0Ieoi/31iJOvnbqLXx915Yewz8samnbTs1Qj/3H5MHjXLdBS3laEiV0p9oJTap5T6Uyk1VymVw17BRObIGRTAK5/3YN+mg8z64GfTcRzir62H6V1lIId3HGPorH607dvcdCRL8fH1ocObrdi8eBt7Nuw3HcctZfSIfDnwqNb6MeAAMDDjkURmq9e5BrU7VOOHoWGWX9tz+eQ19K05JO3e4mtHUattFdORLKn1K43JERQgR+WGZKjItdbLtNbXrgb4AyiY8Ugisyml6De+Fw+VLMCYTh9zLsJ6Nz9KiEvgs17f8f6zX1KqanG+Dh9L8dCipmNZlo+vD21ea0b40h0c3HbEdBy3Y89z5D2AxXbcnshE2fx8GLPn5SoAAAzGSURBVDW/Px42D2YMWsjlczGmI9nNkZ3H6F15IAu/XU7HN1vx3tIh5MgTYDqW5bV6uTHZ/H2Y9s5s01HcjrrbRH6l1Aog7y2+NFhrPT/9OYOBikBbfZsNKqV6Aj0BgoODQ8PCwjKSO8NiY2Px9fU1msEZROyKZGq/eeQvGUyXsS3xyuq6K8SnpqQSPm8nK7/bQFZfb1oNaMDDlR66r23I6+K6BxmLNT9sZN3kcF4Y35mgh3NnUjLHc5bXRb169bZorSv+6wta6ww9gO7ABiDbvX5PaGioNm3VqlWmIziNr4Z9pxvZOug+NQfrmAuxpuM8kKN7IvRr1QfpBqq9HtT8bX0+6uIDbUdeF9c9yFhcOndZt/Lvqke0+8D+gQxyltcFEK5v0akZnbXSBHgLaKW1vpqRbQlzStd7hMFhr7N/00H61R3OucgLpiPds8T4RKaM/oleFf5LxP5T9J/0KmMWDCRnkJxKMcE/lx/tXm/BujkbObDlkOk4biOj58i/BPyA5Uqp7Uqpb+yQSRhQu301xiwcyKlDp+lTfbDTXzCktWbNrA30KNWXicNnUKNNZb7f8ykNnqkt88MNa/dGC/xy+TJh8HTTUdxGRmetFNNah2ity6c/XrJXMOF4oQ3L8eGqkSTGJ/JKpf4sGLfUKW+GtPv3/fSrO5wxnT4me0A23l8xjMHTX5ejcCeR3T8bXQa0YcuyHez+XeaVO4Jc2Sn+oUTFoozb+gFla5fm81fGM7TVe5w/7RynWnas2c1bDUfRt+YQIvaf4vVvX+TrLWOpUL+s6WjiJi16NSIg0I8po2VeuSNIkYt/yZ0vJ+8sGkSvT7qz7ded9CjVl7D35hJ/1fHLeiUnJbN6xnr61BzCm/VGcHTXcXp+0I1Jh76k2QsN5NazTsone1Y6vNma8KU75GpPB5AiF7fk4eFB2z7N+WbbB5StXYrvB03j2UdeZd6Xi4m7Ep/p+z+2J4Ifhkzn6UK9eLvLp1yMusgrn/Vg8uGv6NCvJT7Zs2Z6BpExrV5pTI48/vw4bIbpKJbnaTqAcG4hJQowev4Adv62lx+GTOer1yYwYdA06nSsTuPn6lGmegm7vLmYmprK4R3H+GPhFtbM/J2juyNQSlG5WQVa9mpMpSbl8fCQ4w5X4pM9K50HtOGbfhPZtnKnnALLRFLk4p6UrVWKj1aPZPfv+1k6YSWrZ6xnyYSV5M6fk8fqlKZsrdKUqvIIBYrnu+vRstaa6BPnOLY7gqO7Iti9YT9/rtlDzPlYlFI8WrMkvb94nlrtqpArb04H/YQiM7Ts1YjZny5kwqBpfL7hHZlRlEmkyMU9U0rxaI2SPFqjJC9/9hxrf/qD8GU72LF6D6umr//7eTmCAshbOA/Z/H2weXni5e1JclIyl8/GcPlcDBeiLhEXe/30TN4iQVRvVYny9R+lwhNlyZ1PytsqvLN6021EJz56/mvWzdlIrXZVTUeyJCly8UB8fH1o3L0ejbvXQ2vNqUOnObzjGCcORHL6SBSnj0UTfyWB5MSrJCcmY/P0wD/Qn3xFg8mRJ4CQEvkpVCaEQqULEhDob/rHEZmoYbfazHx/HpNHzaJGm8pyiiwTSJGLDFNKUaBYPgoUy2c6inBCNpuNp4e0572un/Pb7I3U6VDNdCTLkf8ahRCZrm7n6hQqXZCJw2e41cpUjiJFLoTIdDabjWdHdiJi30lWTF5rOo7lSJELIRyiZtsqlKhUlInDZ5AYn2g6jqVIkQshHEIpxfPvPk10xDnmf7nEdBxLkSIXQjhMhfplqdSkPNPfm8vVmDjTcSxDilwI4VDdRnQk5nwscz9fZDqKZUiRCyEcqmTlR6jaMpRZH/5MzIVY03EsQYpcCOFwz43uwpVLV5n5wc+mo1iCFLkQwuEefqwQ9Z+qydzPfuHsqfOm47g8KXIhhBHdR3UmJTmFySNmmo7i8qTIhRBG5Hs4mBYvNWLJhJVE7D9pOo5LkyIXQhjz1OB2eGf1ZvIoWRIuI6TIhRDG5AwKoHXvJqwO+50ju46bjuOypMiFEEZ1fKs1Pn5Z+XFomOkoLkuKXAhhlH8uPzq+2Zrf52+WhZofkBS5EMK4tn2bkTM4gPEDpqK1Nh3H5UiRCyGM8/H1oevwjuz8bS8bFoSbjuNypMiFEE6h6fP1KfBIPiYOm0FqaqrpOC5FilwI4RQ8vTzpOqwDh/88xm+zN5qO41KkyIUQTuPvJeGGhZGSLEvC3SspciGE07DZbHQf3ZmI/adYPmmN6TguQ4pcCOFUajxZmZKVizFpxEwS4hJMx3EJUuRCCKeilOI/7z1D9AlZEu5eSZELIZxOubplqNS0AtPfncuVS1dMx3F6UuRCCKf03OjOxF68wpxPZUm4u5EiF0I4pUcef5gabSrz0ycLuHwuxnQcpyZFLoRwWs+O7ERcTDwz3p9vOopTs0uRK6X6KaW0UirQHtsTQgiAIo8+RP2nazL/y8WcPXnOdBynleEiV0qFAI0AuZmwEMLunh3ZKW1JuJGy+MTt2OOI/BPgLUBuWSaEsLt8RWRJuLtRGbllpFKqNVBfa91HKXUUqKi1Pnub5/YEegIEBweHhoWZvYl8bGwsvr6+RjM4CxmL62QsrnOmsbhy4SpfPT2ZR6oVoc3QRg7fv7OMRb169bZorSv+6wta6zs+gBXArls8WgMbgYD05x0FAu+2Pa01oaGh2rRVq1aZjuA0ZCyuk7G4ztnGYvyAKbqhRwd9eOcxh+/bWcYCCNe36NS7nlrRWjfQWj968wM4DBQBdqQfjRcEtiql8mb0fx0hhLhZhzdb4eOXlYnDZ5iO4nQe+By51nqn1jpIa11Ya10YOAE8rrU+bbd0QgiRzj+3H+3faMn6uZvYt+kv03GciswjF0K4jHavtyAg0I8Jg6ebjuJU7Fbk6Ufmt3yjUwgh7CGbnw9PDWrHtl93snXFn6bjOA05IhdCuJQWvRoRXCgPEwZPk4Wa00mRCyFcincWL54e0o79mw+x8ZetpuM4BSlyIYTLaditDvkeDmbi8BlyVI4UuRDCBV1bqPngtiOsmyMLNUuRCyFcUv2na/JQqQL8OCyMlBT3XqhZilwI4ZJsNhvdR3Xm+N6TrJi81nQco6TIhRAuq2bbKhSvWJRJI2aSmJBkOo4xUuRCCJellKLH2104c/wsS75faTqOMVLkQgiX9niDxyhTowTT351DYnyi6ThGSJELIVyaUopnR3bi7Mnz/PLdCtNxjJAiF0K4vAr1y1K+XhmmvzuHuCvxpuM4nBS5EMISuo/uwoWoS8z/YrHpKA4nRS6EsIQy1UtQpfnjzPxgPrEXr5iO41BS5EIIy+g+ujMxF67w00cLTEdxKClyIYRlFCtfhFrtqzL3i0VcPh9jOo7DSJELISyl69D2eGf15tjuE6ajOIwycecwpVQ0cMzhO/6nQEAWwkgjY3GdjMV1MhbXOctYFNJa57n5k0aK3BkopcK11hVN53AGMhbXyVhcJ2NxnbOPhZxaEUIIFydFLoQQLs6di/w70wGciIzFdTIW18lYXOfUY+G258iFEMIq3PmIXAghLEGKXAghXJwUOaCU6qeU0kqpQNNZTFFKfaCU2qeU+lMpNVcplcN0JkdTSjVRSu1XSh1USg0wnccUpVSIUmqVUmqPUmq3UqqP6UymKaVsSqltSqmFprPcitsXuVIqBGgEHDedxbDlwKNa68eAA8BAw3kcSillA74CmgKlgS5KqdJmUxmTDPTTWpcGqgKvuPFYXNMH2Gs6xO24fZEDnwBvAW79rq/WepnWOjn9wz+AgibzGFAZOKi1Pqy1TgTCgNaGMxmhtY7UWm9N/3MMaQVWwGwqc5RSBYHmwHjTWW7HrYtcKdUaOKm13mE6i5PpAbjbTZ0LABE3fHwCNy6va5RShYEKwEazSYz6lLSDvVTTQW7H03SAzKaUWgHkvcWXBgODSDut4hbuNBZa6/npzxlM2q/WUx2ZTTgfpZQvMBvoq7W+bDqPCUqpFsAZrfUWpVRd03lux/JFrrVucKvPK6XKAkWAHUopSDuVsFUpVVlrfdqBER3mdmNxjVKqO9ACeEK73wUGJ4GQGz4umP45t6SU8iKtxKdqreeYzmNQDaCVUqoZkBXwV0pN0Vo/YzjXP8gFQemUUkeBilprZ7jDmcMppZoAHwN1tNbRpvM4mlLKk7Q3eZ8grcA3A09prXcbDWaASjuymQic11r3NZ3HWaQfkb+ptW5hOsvN3PocufiHLwE/YLlSartS6hvTgRwp/Y3e3sBS0t7cm+mOJZ6uBtAVqJ/+WtiefkQqnJQckQshhIuTI3IhhHBxUuRCCOHipMiFEMLFSZELIYSLkyIXQggXJ0UuhBAuTopcCCFc3P8BDDIis/VjFa0AAAAASUVORK5CYII=\n",
                "text/plain": "<Figure size 432x288 with 1 Axes>"
              }
            ],
            "_view_module": "@jupyter-widgets/output",
            "_model_module_version": "1.0.0",
            "_view_count": null,
            "_view_module_version": "1.0.0",
            "layout": "IPY_MODEL_c22877f4add04dd288bab4cd3c55f33d",
            "_model_module": "@jupyter-widgets/output"
          }
        },
        "26f4c562ace4430f96a66e248385649c": {
          "model_module": "@jupyter-widgets/controls",
          "model_name": "SliderStyleModel",
          "state": {
            "_view_name": "StyleView",
            "handle_color": null,
            "_model_name": "SliderStyleModel",
            "description_width": "",
            "_view_module": "@jupyter-widgets/base",
            "_model_module_version": "1.5.0",
            "_view_count": null,
            "_view_module_version": "1.2.0",
            "_model_module": "@jupyter-widgets/controls"
          }
        },
        "a18ce90cdf034e54ba221316e87fd651": {
          "model_module": "@jupyter-widgets/base",
          "model_name": "LayoutModel",
          "state": {
            "_view_name": "LayoutView",
            "grid_template_rows": null,
            "right": null,
            "justify_content": null,
            "_view_module": "@jupyter-widgets/base",
            "overflow": null,
            "_model_module_version": "1.2.0",
            "_view_count": null,
            "flex_flow": null,
            "width": null,
            "min_width": null,
            "border": null,
            "align_items": null,
            "bottom": null,
            "_model_module": "@jupyter-widgets/base",
            "top": null,
            "grid_column": null,
            "overflow_y": null,
            "overflow_x": null,
            "grid_auto_flow": null,
            "grid_area": null,
            "grid_template_columns": null,
            "flex": null,
            "_model_name": "LayoutModel",
            "justify_items": null,
            "grid_row": null,
            "max_height": null,
            "align_content": null,
            "visibility": null,
            "align_self": null,
            "height": null,
            "min_height": null,
            "padding": null,
            "grid_auto_rows": null,
            "grid_gap": null,
            "max_width": null,
            "order": null,
            "_view_module_version": "1.2.0",
            "grid_template_areas": null,
            "object_position": null,
            "object_fit": null,
            "grid_auto_columns": null,
            "margin": null,
            "display": null,
            "left": null
          }
        },
        "4e677f14bc5f40c2ab6696409a9f461c": {
          "model_module": "@jupyter-widgets/controls",
          "model_name": "SliderStyleModel",
          "state": {
            "_view_name": "StyleView",
            "handle_color": null,
            "_model_name": "SliderStyleModel",
            "description_width": "",
            "_view_module": "@jupyter-widgets/base",
            "_model_module_version": "1.5.0",
            "_view_count": null,
            "_view_module_version": "1.2.0",
            "_model_module": "@jupyter-widgets/controls"
          }
        },
        "53545be97480456c8c73946eb7e1e7fa": {
          "model_module": "@jupyter-widgets/base",
          "model_name": "LayoutModel",
          "state": {
            "_view_name": "LayoutView",
            "grid_template_rows": null,
            "right": null,
            "justify_content": null,
            "_view_module": "@jupyter-widgets/base",
            "overflow": null,
            "_model_module_version": "1.2.0",
            "_view_count": null,
            "flex_flow": null,
            "width": null,
            "min_width": null,
            "border": null,
            "align_items": null,
            "bottom": null,
            "_model_module": "@jupyter-widgets/base",
            "top": null,
            "grid_column": null,
            "overflow_y": null,
            "overflow_x": null,
            "grid_auto_flow": null,
            "grid_area": null,
            "grid_template_columns": null,
            "flex": null,
            "_model_name": "LayoutModel",
            "justify_items": null,
            "grid_row": null,
            "max_height": null,
            "align_content": null,
            "visibility": null,
            "align_self": null,
            "height": null,
            "min_height": null,
            "padding": null,
            "grid_auto_rows": null,
            "grid_gap": null,
            "max_width": null,
            "order": null,
            "_view_module_version": "1.2.0",
            "grid_template_areas": null,
            "object_position": null,
            "object_fit": null,
            "grid_auto_columns": null,
            "margin": null,
            "display": null,
            "left": null
          }
        },
        "c22877f4add04dd288bab4cd3c55f33d": {
          "model_module": "@jupyter-widgets/base",
          "model_name": "LayoutModel",
          "state": {
            "_view_name": "LayoutView",
            "grid_template_rows": null,
            "right": null,
            "justify_content": null,
            "_view_module": "@jupyter-widgets/base",
            "overflow": null,
            "_model_module_version": "1.2.0",
            "_view_count": null,
            "flex_flow": null,
            "width": null,
            "min_width": null,
            "border": null,
            "align_items": null,
            "bottom": null,
            "_model_module": "@jupyter-widgets/base",
            "top": null,
            "grid_column": null,
            "overflow_y": null,
            "overflow_x": null,
            "grid_auto_flow": null,
            "grid_area": null,
            "grid_template_columns": null,
            "flex": null,
            "_model_name": "LayoutModel",
            "justify_items": null,
            "grid_row": null,
            "max_height": null,
            "align_content": null,
            "visibility": null,
            "align_self": null,
            "height": null,
            "min_height": null,
            "padding": null,
            "grid_auto_rows": null,
            "grid_gap": null,
            "max_width": null,
            "order": null,
            "_view_module_version": "1.2.0",
            "grid_template_areas": null,
            "object_position": null,
            "object_fit": null,
            "grid_auto_columns": null,
            "margin": null,
            "display": null,
            "left": null
          }
        },
        "3bf4ae70af054a0294bada972097db66": {
          "model_module": "@jupyter-widgets/controls",
          "model_name": "VBoxModel",
          "state": {
            "_view_name": "VBoxView",
            "_dom_classes": [
              "widget-interact"
            ],
            "_model_name": "VBoxModel",
            "_view_module": "@jupyter-widgets/controls",
            "_model_module_version": "1.5.0",
            "_view_count": null,
            "_view_module_version": "1.5.0",
            "box_style": "",
            "layout": "IPY_MODEL_bb6af5eba4d04818bbb261ea022b9996",
            "_model_module": "@jupyter-widgets/controls",
            "children": [
              "IPY_MODEL_3cf2695b650d4a1ca1a1a1eeeef03f4d",
              "IPY_MODEL_3cdbe5cec29e40a6bceb963d4f715830",
              "IPY_MODEL_52f96f0be72e444b8a2c9c4517d4671e",
              "IPY_MODEL_4b55308f6b9a4373be7566565b11466f"
            ]
          }
        },
        "bb6af5eba4d04818bbb261ea022b9996": {
          "model_module": "@jupyter-widgets/base",
          "model_name": "LayoutModel",
          "state": {
            "_view_name": "LayoutView",
            "grid_template_rows": null,
            "right": null,
            "justify_content": null,
            "_view_module": "@jupyter-widgets/base",
            "overflow": null,
            "_model_module_version": "1.2.0",
            "_view_count": null,
            "flex_flow": null,
            "width": null,
            "min_width": null,
            "border": null,
            "align_items": null,
            "bottom": null,
            "_model_module": "@jupyter-widgets/base",
            "top": null,
            "grid_column": null,
            "overflow_y": null,
            "overflow_x": null,
            "grid_auto_flow": null,
            "grid_area": null,
            "grid_template_columns": null,
            "flex": null,
            "_model_name": "LayoutModel",
            "justify_items": null,
            "grid_row": null,
            "max_height": null,
            "align_content": null,
            "visibility": null,
            "align_self": null,
            "height": null,
            "min_height": null,
            "padding": null,
            "grid_auto_rows": null,
            "grid_gap": null,
            "max_width": null,
            "order": null,
            "_view_module_version": "1.2.0",
            "grid_template_areas": null,
            "object_position": null,
            "object_fit": null,
            "grid_auto_columns": null,
            "margin": null,
            "display": null,
            "left": null
          }
        },
        "3cf2695b650d4a1ca1a1a1eeeef03f4d": {
          "model_module": "@jupyter-widgets/controls",
          "model_name": "FloatSliderModel",
          "state": {
            "_view_name": "FloatSliderView",
            "style": "IPY_MODEL_c9c32b6c2af74a9baf90164dbe5f397e",
            "_dom_classes": [],
            "description": "a",
            "step": 0.1,
            "_model_name": "FloatSliderModel",
            "orientation": "horizontal",
            "max": 5,
            "_view_module": "@jupyter-widgets/controls",
            "_model_module_version": "1.5.0",
            "value": -1,
            "_view_count": null,
            "disabled": false,
            "_view_module_version": "1.5.0",
            "min": -5,
            "continuous_update": true,
            "readout_format": ".2f",
            "description_tooltip": null,
            "readout": true,
            "_model_module": "@jupyter-widgets/controls",
            "layout": "IPY_MODEL_baf72bca400e473488e5ecd5cc6a8ecf"
          }
        },
        "3cdbe5cec29e40a6bceb963d4f715830": {
          "model_module": "@jupyter-widgets/controls",
          "model_name": "FloatSliderModel",
          "state": {
            "_view_name": "FloatSliderView",
            "style": "IPY_MODEL_01e0c13cfa4c4e0aa48061df56f698e1",
            "_dom_classes": [],
            "description": "b",
            "step": 0.1,
            "_model_name": "FloatSliderModel",
            "orientation": "horizontal",
            "max": 5,
            "_view_module": "@jupyter-widgets/controls",
            "_model_module_version": "1.5.0",
            "value": 0,
            "_view_count": null,
            "disabled": false,
            "_view_module_version": "1.5.0",
            "min": -5,
            "continuous_update": true,
            "readout_format": ".2f",
            "description_tooltip": null,
            "readout": true,
            "_model_module": "@jupyter-widgets/controls",
            "layout": "IPY_MODEL_d22691ea5ad343dda2710bffac4294a8"
          }
        },
        "52f96f0be72e444b8a2c9c4517d4671e": {
          "model_module": "@jupyter-widgets/controls",
          "model_name": "IntSliderModel",
          "state": {
            "_view_name": "IntSliderView",
            "style": "IPY_MODEL_4aa82e4d714543cebdfcfb0224c23706",
            "_dom_classes": [],
            "description": "field",
            "step": 1,
            "_model_name": "IntSliderModel",
            "orientation": "horizontal",
            "max": 100,
            "_view_module": "@jupyter-widgets/controls",
            "_model_module_version": "1.5.0",
            "value": 61,
            "_view_count": null,
            "disabled": false,
            "_view_module_version": "1.5.0",
            "min": 1,
            "continuous_update": true,
            "readout_format": "d",
            "description_tooltip": null,
            "readout": true,
            "_model_module": "@jupyter-widgets/controls",
            "layout": "IPY_MODEL_4c7886e5dddd4f1697dd670d6f6e7740"
          }
        },
        "4b55308f6b9a4373be7566565b11466f": {
          "model_module": "@jupyter-widgets/output",
          "model_name": "OutputModel",
          "state": {
            "_view_name": "OutputView",
            "msg_id": "",
            "_dom_classes": [],
            "_model_name": "OutputModel",
            "outputs": [
              {
                "output_type": "display_data",
                "metadata": {
                  "tags": [],
                  "needs_background": "light"
                },
                "image/png": "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\n",
                "text/plain": "<Figure size 720x720 with 2 Axes>"
              }
            ],
            "_view_module": "@jupyter-widgets/output",
            "_model_module_version": "1.0.0",
            "_view_count": null,
            "_view_module_version": "1.0.0",
            "layout": "IPY_MODEL_d85648afd0e746a09ee10cda3a09a3f1",
            "_model_module": "@jupyter-widgets/output"
          }
        },
        "c9c32b6c2af74a9baf90164dbe5f397e": {
          "model_module": "@jupyter-widgets/controls",
          "model_name": "SliderStyleModel",
          "state": {
            "_view_name": "StyleView",
            "handle_color": null,
            "_model_name": "SliderStyleModel",
            "description_width": "",
            "_view_module": "@jupyter-widgets/base",
            "_model_module_version": "1.5.0",
            "_view_count": null,
            "_view_module_version": "1.2.0",
            "_model_module": "@jupyter-widgets/controls"
          }
        },
        "baf72bca400e473488e5ecd5cc6a8ecf": {
          "model_module": "@jupyter-widgets/base",
          "model_name": "LayoutModel",
          "state": {
            "_view_name": "LayoutView",
            "grid_template_rows": null,
            "right": null,
            "justify_content": null,
            "_view_module": "@jupyter-widgets/base",
            "overflow": null,
            "_model_module_version": "1.2.0",
            "_view_count": null,
            "flex_flow": null,
            "width": null,
            "min_width": null,
            "border": null,
            "align_items": null,
            "bottom": null,
            "_model_module": "@jupyter-widgets/base",
            "top": null,
            "grid_column": null,
            "overflow_y": null,
            "overflow_x": null,
            "grid_auto_flow": null,
            "grid_area": null,
            "grid_template_columns": null,
            "flex": null,
            "_model_name": "LayoutModel",
            "justify_items": null,
            "grid_row": null,
            "max_height": null,
            "align_content": null,
            "visibility": null,
            "align_self": null,
            "height": null,
            "min_height": null,
            "padding": null,
            "grid_auto_rows": null,
            "grid_gap": null,
            "max_width": null,
            "order": null,
            "_view_module_version": "1.2.0",
            "grid_template_areas": null,
            "object_position": null,
            "object_fit": null,
            "grid_auto_columns": null,
            "margin": null,
            "display": null,
            "left": null
          }
        },
        "01e0c13cfa4c4e0aa48061df56f698e1": {
          "model_module": "@jupyter-widgets/controls",
          "model_name": "SliderStyleModel",
          "state": {
            "_view_name": "StyleView",
            "handle_color": null,
            "_model_name": "SliderStyleModel",
            "description_width": "",
            "_view_module": "@jupyter-widgets/base",
            "_model_module_version": "1.5.0",
            "_view_count": null,
            "_view_module_version": "1.2.0",
            "_model_module": "@jupyter-widgets/controls"
          }
        },
        "d22691ea5ad343dda2710bffac4294a8": {
          "model_module": "@jupyter-widgets/base",
          "model_name": "LayoutModel",
          "state": {
            "_view_name": "LayoutView",
            "grid_template_rows": null,
            "right": null,
            "justify_content": null,
            "_view_module": "@jupyter-widgets/base",
            "overflow": null,
            "_model_module_version": "1.2.0",
            "_view_count": null,
            "flex_flow": null,
            "width": null,
            "min_width": null,
            "border": null,
            "align_items": null,
            "bottom": null,
            "_model_module": "@jupyter-widgets/base",
            "top": null,
            "grid_column": null,
            "overflow_y": null,
            "overflow_x": null,
            "grid_auto_flow": null,
            "grid_area": null,
            "grid_template_columns": null,
            "flex": null,
            "_model_name": "LayoutModel",
            "justify_items": null,
            "grid_row": null,
            "max_height": null,
            "align_content": null,
            "visibility": null,
            "align_self": null,
            "height": null,
            "min_height": null,
            "padding": null,
            "grid_auto_rows": null,
            "grid_gap": null,
            "max_width": null,
            "order": null,
            "_view_module_version": "1.2.0",
            "grid_template_areas": null,
            "object_position": null,
            "object_fit": null,
            "grid_auto_columns": null,
            "margin": null,
            "display": null,
            "left": null
          }
        },
        "4aa82e4d714543cebdfcfb0224c23706": {
          "model_module": "@jupyter-widgets/controls",
          "model_name": "SliderStyleModel",
          "state": {
            "_view_name": "StyleView",
            "handle_color": null,
            "_model_name": "SliderStyleModel",
            "description_width": "",
            "_view_module": "@jupyter-widgets/base",
            "_model_module_version": "1.5.0",
            "_view_count": null,
            "_view_module_version": "1.2.0",
            "_model_module": "@jupyter-widgets/controls"
          }
        },
        "4c7886e5dddd4f1697dd670d6f6e7740": {
          "model_module": "@jupyter-widgets/base",
          "model_name": "LayoutModel",
          "state": {
            "_view_name": "LayoutView",
            "grid_template_rows": null,
            "right": null,
            "justify_content": null,
            "_view_module": "@jupyter-widgets/base",
            "overflow": null,
            "_model_module_version": "1.2.0",
            "_view_count": null,
            "flex_flow": null,
            "width": null,
            "min_width": null,
            "border": null,
            "align_items": null,
            "bottom": null,
            "_model_module": "@jupyter-widgets/base",
            "top": null,
            "grid_column": null,
            "overflow_y": null,
            "overflow_x": null,
            "grid_auto_flow": null,
            "grid_area": null,
            "grid_template_columns": null,
            "flex": null,
            "_model_name": "LayoutModel",
            "justify_items": null,
            "grid_row": null,
            "max_height": null,
            "align_content": null,
            "visibility": null,
            "align_self": null,
            "height": null,
            "min_height": null,
            "padding": null,
            "grid_auto_rows": null,
            "grid_gap": null,
            "max_width": null,
            "order": null,
            "_view_module_version": "1.2.0",
            "grid_template_areas": null,
            "object_position": null,
            "object_fit": null,
            "grid_auto_columns": null,
            "margin": null,
            "display": null,
            "left": null
          }
        },
        "d85648afd0e746a09ee10cda3a09a3f1": {
          "model_module": "@jupyter-widgets/base",
          "model_name": "LayoutModel",
          "state": {
            "_view_name": "LayoutView",
            "grid_template_rows": null,
            "right": null,
            "justify_content": null,
            "_view_module": "@jupyter-widgets/base",
            "overflow": null,
            "_model_module_version": "1.2.0",
            "_view_count": null,
            "flex_flow": null,
            "width": null,
            "min_width": null,
            "border": null,
            "align_items": null,
            "bottom": null,
            "_model_module": "@jupyter-widgets/base",
            "top": null,
            "grid_column": null,
            "overflow_y": null,
            "overflow_x": null,
            "grid_auto_flow": null,
            "grid_area": null,
            "grid_template_columns": null,
            "flex": null,
            "_model_name": "LayoutModel",
            "justify_items": null,
            "grid_row": null,
            "max_height": null,
            "align_content": null,
            "visibility": null,
            "align_self": null,
            "height": null,
            "min_height": null,
            "padding": null,
            "grid_auto_rows": null,
            "grid_gap": null,
            "max_width": null,
            "order": null,
            "_view_module_version": "1.2.0",
            "grid_template_areas": null,
            "object_position": null,
            "object_fit": null,
            "grid_auto_columns": null,
            "margin": null,
            "display": null,
            "left": null
          }
        }
      }
    }
  },
  "cells": [
    {
      "cell_type": "markdown",
      "metadata": {
        "id": "view-in-github",
        "colab_type": "text"
      },
      "source": [
        "<a href=\"https://colab.research.google.com/github/Miseq/EllipticCurves/blob/master/krzywe_eliptyczne.ipynb\" target=\"_parent\"><img src=\"https://colab.research.google.com/assets/colab-badge.svg\" alt=\"Open In Colab\"/></a>"
      ]
    },
    {
      "cell_type": "markdown",
      "metadata": {
        "id": "LMeaaxaxdsFP",
        "colab_type": "text"
      },
      "source": [
        "# Instalacja bibliotek i importowanie ich\n",
        "\n",
        "Poniższe opracowanie do poprawnego działania wymaga zainstalowania kilku potrzebnych pakietów, oraz zaimportowanie. Uruchomienie poniższych fragmentów kodu wykona te operacje:\n"
      ]
    },
    {
      "cell_type": "code",
      "metadata": {
        "id": "m1JHysherXxh",
        "colab_type": "code",
        "colab": {}
      },
      "source": [
        "# instalowanie bibliotek wymaganych do działania kodu\n",
        "# zapobiega outputowi na parę stron\n",
        "%%capture \n",
        "!apt-get install python-dev libgmp3-dev\n",
        "!pip install ecpy\n",
        "!pip install fastecdsa\n",
        "!pip install eciespy\n",
        "!pip install tinyec\n",
        "!pip install python_secrets\n",
        "!pip install pycryptodome\n",
        "\n",
        "print(\"Done!\")"
      ],
      "execution_count": 0,
      "outputs": []
    },
    {
      "cell_type": "code",
      "metadata": {
        "id": "-8SHnNnMcc0W",
        "colab_type": "code",
        "outputId": "937e859b-84a4-4979-a436-7916d88239a0",
        "colab": {
          "base_uri": "https://localhost:8080/",
          "height": 35
        }
      },
      "source": [
        "# importowanie wcześniej zainstalowanych bibliotek\n",
        "%matplotlib inline\n",
        "import numpy as np\n",
        "import matplotlib.pyplot as plt\n",
        "from ecies.utils import generate_eth_key, generate_key\n",
        "from ecies import encrypt, decrypt\n",
        "from fastecdsa import curve, ecdsa, keys\n",
        "from hashlib import sha384\n",
        "from tinyec import registry\n",
        "import tinyec.ec as ec\n",
        "from Crypto.Cipher import AES\n",
        "import hashlib, secrets, binascii\n",
        "from ipywidgets import interactive\n",
        "import warnings\n",
        "\n",
        "print(\"Done!\")"
      ],
      "execution_count": 0,
      "outputs": [
        {
          "output_type": "stream",
          "text": [
            "Done!\n"
          ],
          "name": "stdout"
        }
      ]
    },
    {
      "cell_type": "markdown",
      "metadata": {
        "id": "NK1iiwK5bhYs",
        "colab_type": "text"
      },
      "source": [
        "# **Krzywe eliptyczne - wyjaśnienie**\n"
      ]
    },
    {
      "cell_type": "markdown",
      "metadata": {
        "id": "713bfXoze5Qm",
        "colab_type": "text"
      },
      "source": [
        "Krzywe eliptyczne są rodzajem gładkich krzywych algebraicznych, które znalazły szerokie zastosowanie we współczesnej kryptografii. Swoją popularność zawdzięczają matematycznie łatwemu generowaniu kluczy oraz dużej złożoności obliczeniowej, często nieopłacalnej czasowo, wymaganej do złamania szyfru stworzonego przez daną krzywą.\n",
        "\n"
      ]
    },
    {
      "cell_type": "markdown",
      "metadata": {
        "id": "nZwoYsHuw6jp",
        "colab_type": "text"
      },
      "source": [
        "# **Wymiana kluczy algorytmem Diffie-Hellman**\n"
      ]
    },
    {
      "cell_type": "markdown",
      "metadata": {
        "id": "OGLoWy1sxaXc",
        "colab_type": "text"
      },
      "source": [
        "Aby zrozumieć działanie oraz znaczenie krzywych eliptycznych w krytpografii najpierw *należy* wyjaśnić koncept szyfrowania wiadomości za pomocą kluczy publicznych oraz prywatnych, następnie zaś podstawową metodę wymiany Diffie-Hellmana.\n",
        "\n",
        "\n",
        "Jako przykładowy problem wyobraźmy sobie dwóch użytkowników, Adam oraz Bartek, którzy chcą porozumiewać się przez internet prywatnie. Jeden użytkownik wysyła więc do drugiego dowolną cyfrę **$G$**, będącą kluczem publicznym następnie zaś każdy użytkownik tworzy własny klucz prywatny.\n",
        "- Adam: **$a$**\n",
        "- Bartek: **$b$**\n",
        "\n",
        "Kolejnym krokiem jest podniesienie klucza publicznego (**$G$**) do potęgi klucza prywatnego, tworząc w ten sposób zmienną, którą nazwiemy **H**:\n",
        "- Adam: **$G^a = Ha$**\n",
        "- Bartek: **$G^b = Hb$**\n",
        "\n",
        "Następnie wysyłają sobie nawzajem zmienne **$H$**, przez co Adam posiada **$Hb$** zaś Bartek **$Ha$**. W tym miejscu oboje znów podnoszą przesłaną liczbę do potęgi klucza prywatnego, dzięki czemu zostaje wykorzystana własność potęgowania sprowadzająca się do równania:\n",
        "- **$Ha^b == Hb^a$** gdyż **$((H)^a)^b = H^{ab}$** \n",
        "\n",
        "Obaj użytkownicy otrzymują w wyniku tą samą liczbę **S**, która jest potwierdzeniem iż wymiania wiadomości zachodzi (teoretycznie) pomiędzy poprawnymi użytkownikami.\n",
        "\n",
        "![alt text](https://drive.google.com/uc?id=1K4bwZ8vbT9bz_8VSOCMc2h2wZT1wn8Qw)\n"
      ]
    },
    {
      "cell_type": "markdown",
      "metadata": {
        "id": "q1nVw9m6ypG3",
        "colab_type": "text"
      },
      "source": [
        "\n",
        "## **Problem z przechwyceniem dwóch składowych równania**\n",
        "\n",
        "W krytycznej fazie wymiany zarówno **$G$** jak i **$Ha$** wysyłane sa publicznie przez internet, jeśli ktokolwiek przechwyciłby te wiadomości, odkrycie wartości prywatnego klucza **$a$** nie sprawiałoby problemu i sprowadzałoby się (w uproszczeniu) do poniższego działania:\n",
        "\\begin{equation}\n",
        "  2^n = 16, n = ?\n",
        "\\end{equation}\n",
        "\n",
        "Rozwiązaniem tego problemu jest wprowadzenie operacji **modulo**. Dzięki jej wprowadzeniu nie można mieć pewności do jakiej rzeczywistej wartości odnosi się dana liczba, z cyklicznej natury działania operacji **mod**.\n",
        "\n",
        "\\begin{equation}\n",
        "  2^n\\ mod\\ 17 = 16, n = ?\n",
        "\\end{equation}\n",
        "\n",
        "Po zastosowaniu tej operacji, nawet jeśli atakujący przechwyci dwie wartości, dalej nie ma pewności czy **n** będzie równe 4, 12, 20, 36 czy 2988 ponieważ wszystkie te liczby spełniają równanie."
      ]
    },
    {
      "cell_type": "markdown",
      "metadata": {
        "id": "fAxVEcKRxwkm",
        "colab_type": "text"
      },
      "source": [
        "## **Wykorzystanie krzywych eliptycznych do usprawnienia protokołu wymiany kluczy**\n",
        "\n",
        "Problemem z standardowym protokołem wymiany kluczy polega na ich dużych rozmiarach. W ostatnich latach, z podu gwałtownego wzrostu popularności Internetu Rzeczy (IoT), zwiększa się liczba coraz mniejszych urządzeń potrzebujących bezpiecznego połączenia z internetem. Z powodu ograniczeń mocy obliczeniowej, urządzenia te nie są w stanie generować odpowiednio skomplikowanych kluczy do zapewnienia bezpiecznego transferu. Jednocześnie należy tworzyć coraz bardziej skomplikowane klucze, które zapewnią bezpieczeństwo w nieustannej wojnie z hackerami.\n",
        "\n",
        "\n",
        "Całościowo problem można sprowadzić do zdania:\n",
        "**Klucze muszą być coraz mniejsze a zarazem klucze muszą być coraz większe**.\n",
        "\n",
        "Rozwiązaniem tego problemu okazało się zastosowanie krzywych eliptycznych jako sposobu na generowanie kluczy. Otóż klucze wygenerwaone w ten sposób, potrafią mieć dzisięciokrotnie mniejszy rozmiar (w bitach) będąc jednocześnie bardziej skomplikowane do odgadnięcia przez stronę trzecią."
      ]
    },
    {
      "cell_type": "markdown",
      "metadata": {
        "id": "wtPXDxQhv-Vf",
        "colab_type": "text"
      },
      "source": [
        "# Krzywa eliptyczna\n",
        "\n"
      ]
    },
    {
      "cell_type": "markdown",
      "metadata": {
        "id": "C2j4E_BEefrf",
        "colab_type": "text"
      },
      "source": [
        "Podstawowa krzywa eliptyczna jest wynikiem działania funkcji  **$y^2=x^3+ax+b$**: \n",
        "\n",
        "![alt text](https://drive.google.com/uc?id=1PktWCdIfCjsNX2KOT5GFNIKUJyuD_Tej)\n",
        "\n",
        "\n",
        "\n",
        "\n",
        "\n",
        "Gdzie zmienna **$a$** odpowiada za wybrzuszenie, gdzie wartości poniżej $-1$ 'odrywają' wybrzuszenie od krzywej, zaś wartości powyżej stopniowo wypłaszczają je.\n",
        "Zmienna **$b$** odpowiada za szerokość wybrzuszenia. Zauważyć to można na rysunku przedstawionym poniżej:\n",
        "\n",
        "![alt text](https://drive.google.com/uc?id=1pckQ3cAuAjGamWlR8toSXelj3ZUwHeT2)"
      ]
    },
    {
      "cell_type": "markdown",
      "metadata": {
        "id": "DZxeBB1Ddw_J",
        "colab_type": "text"
      },
      "source": [
        "## Rysowanie krzywych eliptycznych przy pomocy języka Python"
      ]
    },
    {
      "cell_type": "markdown",
      "metadata": {
        "id": "OJn25HoRpRx8",
        "colab_type": "text"
      },
      "source": [
        "Aby ułatwić rysowanie krzywych, najpierw przeprowadzono obliczenia w ciele liczb rzeczywistych. Następnie przeprowadzono odwzorowanie konturowe na cało liczb rzeczywistych."
      ]
    },
    {
      "cell_type": "code",
      "metadata": {
        "id": "AjF_YVsnmuu_",
        "colab_type": "code",
        "outputId": "64e09073-fec8-4f11-95be-32f68d6edbdb",
        "colab": {
          "base_uri": "https://localhost:8080/",
          "height": 349,
          "referenced_widgets": [
            "0fe8dcb6fa904907bc8bf379e3e0e536",
            "6b3986afc6594efb88e8da8b2eb6368f",
            "6deedc638406423abcde2210f1e3addc",
            "642a01268b9d454da09d218c6d446dc5",
            "2d58d73c76104635835b5e815dcbbe48",
            "26f4c562ace4430f96a66e248385649c",
            "a18ce90cdf034e54ba221316e87fd651",
            "4e677f14bc5f40c2ab6696409a9f461c",
            "53545be97480456c8c73946eb7e1e7fa",
            "c22877f4add04dd288bab4cd3c55f33d"
          ]
        }
      },
      "source": [
        "y, x = np.ogrid[-5:5:100j, -5:5:100j] # Tworzenie pola na którym zostanie wyrysowana krzywa\n",
        "\n",
        "# Funkcja rysująca\n",
        "def g(a, b):\n",
        "    # Dodatkowa funkcja pomocnicza, która pomaga formatować tytuł wykresu\n",
        "    def sign_format(a):\n",
        "      return \"- %g\" % (a*(-1)) if a < 0 else \"+ %g\" % a \n",
        "    \n",
        "    # Wzór funkcji w ciele liczb zespolonych\n",
        "    basic_curve = pow(y, 2) - pow(x, 3) - x * a - b\n",
        "\n",
        "    # Odbicie wykresu w ciele liczb zespolonych na liczby rzeczywiste\n",
        "    plt.contour(x.ravel(), y.ravel(), basic_curve, [0])\n",
        "    plt.grid() # Włączenie siatki\n",
        "  \n",
        "    # Ustawienie tytułu\n",
        "    plt.title(f\"$y^2 = x^3 {sign_format(a)} \\cdot x {sign_format(b)} $\")\n",
        "    plt.show()\n",
        "\n",
        "# Uruchomienie interaktywnego wykresu, z suwakami dla wartości a i b.\n",
        "# Zakres wartości zmiennych od -5 do 5, a krok ustawień to 0.1\n",
        "l = interactive(g, a=(-5, 5, 0.1), b=(-5, 5, 0.1))\n",
        "\n",
        "display(l) # Wyświelenie wykresu.\n"
      ],
      "execution_count": 0,
      "outputs": [
        {
          "output_type": "display_data",
          "data": {
            "application/vnd.jupyter.widget-view+json": {
              "model_id": "0fe8dcb6fa904907bc8bf379e3e0e536",
              "version_minor": 0,
              "version_major": 2
            },
            "text/plain": [
              "interactive(children=(FloatSlider(value=0.0, description='a', max=5.0, min=-5.0), FloatSlider(value=0.0, descr…"
            ]
          },
          "metadata": {
            "tags": []
          }
        }
      ]
    },
    {
      "cell_type": "markdown",
      "metadata": {
        "id": "kbltV2dKHWhk",
        "colab_type": "text"
      },
      "source": [
        "Powyższy przykład jest prosty a zatem niezbyt bezpieczny. Bardziej zaawansowane krzywe mogą mieć wzór na przykład:\n",
        "$y^2 = x^3-3x+19596161053329239268181228455226581162286252326261019516900162717091837027531392576647644262320816848087868142547438$"
      ]
    },
    {
      "cell_type": "markdown",
      "metadata": {
        "id": "O142QzE33VEk",
        "colab_type": "text"
      },
      "source": [
        "# **Wyznaczanie kolejnych n-tych punktów na krzywej eliptycznej**"
      ]
    },
    {
      "cell_type": "markdown",
      "metadata": {
        "id": "k5rmzuA53fci",
        "colab_type": "text"
      },
      "source": [
        "Przykładowy widok krzywej eliptycznej z dwolonie wybranym punktem 'g'\n",
        "."
      ]
    },
    {
      "cell_type": "markdown",
      "metadata": {
        "id": "FcI8Ry6nWyfP",
        "colab_type": "text"
      },
      "source": [
        "![Przykładowa krzywa eliptyczna](https://drive.google.com/uc?id=1wU5Cm7jgz4tqLkFeC8zcGhxSqJCLiZ4c)"
      ]
    },
    {
      "cell_type": "markdown",
      "metadata": {
        "id": "klMC6mlldXko",
        "colab_type": "text"
      },
      "source": [
        "Aby wyznaczyć punkt '2g' przeprowadzamy styczną w punkcie 'g', następnie zaś odbijamy symetrycznie względem osi X."
      ]
    },
    {
      "cell_type": "markdown",
      "metadata": {
        "id": "Oly9NBU9dJnM",
        "colab_type": "text"
      },
      "source": [
        "![Wyrpowadzenie tangensa w celu wyznaczenia punktu 2g](https://drive.google.com/uc?id=1UYLT3CI8R2K53rNRYwPec1oe8IgCPu90)"
      ]
    },
    {
      "cell_type": "markdown",
      "metadata": {
        "id": "A83XuuZIe1Qr",
        "colab_type": "text"
      },
      "source": [
        "Do wyznaczenia punktu 3g(tutaj wyróżnione 'X') przeprowadzamy prostą przechodzącą przez punkt g oraz 2g, a następnie odwracamy wzdłuż osi X miejsce, w którym prosta przecina krzywą eliptyczną."
      ]
    },
    {
      "cell_type": "markdown",
      "metadata": {
        "id": "JOlKQnDte13N",
        "colab_type": "text"
      },
      "source": [
        "\n",
        "![alt text](https://drive.google.com/uc?id=1bNPJHwxcqoQ1nolcyZG6_cfT1m8eEeVR)"
      ]
    },
    {
      "cell_type": "markdown",
      "metadata": {
        "id": "jAW1KrpYlMS8",
        "colab_type": "text"
      },
      "source": [
        "Schemat powtarzamy do wyznaczania dowlonej ilości następnych punktów Ng na krzywej eliptycznej, gdzie N należy do zbioru liczb rzeczywistych."
      ]
    },
    {
      "cell_type": "markdown",
      "metadata": {
        "id": "FwXUeDR_lZcs",
        "colab_type": "text"
      },
      "source": [
        "![alt text](https://drive.google.com/uc?id=1iZ8N7EnaN9M5qYG93TRoshSxAzR7EVzB)"
      ]
    },
    {
      "cell_type": "markdown",
      "metadata": {
        "id": "_u3L1Sxp5Ybr",
        "colab_type": "text"
      },
      "source": [
        "Ważną zaletą krzywych eliptycznych jest fakt, iż wykreslając prostą przez dwa dowolne punkty, zawsze przetniemy funkcję w maksymalnie jednym miejscu, co sprawia iż nigdy nie zostaniemy postawieni przed wyborem w którym miejscu powinna znaleźć się następna wielokrotnośc wykreślanego punktu."
      ]
    },
    {
      "cell_type": "markdown",
      "metadata": {
        "id": "pwkbLp7t4gZB",
        "colab_type": "text"
      },
      "source": [
        "Łatwo zauważyć, iż wyznaczając kolejne wielokrotności dowolnego punktu g, poruszamy się po danej krzywej eliptycznej w sposób wyglądający na losowy.\n",
        "Ten sposób poruszania się sprawia iż "
      ]
    },
    {
      "cell_type": "markdown",
      "metadata": {
        "id": "u2z-f5FP8uEc",
        "colab_type": "text"
      },
      "source": [
        "# **Klucze - koncepcyjnie**"
      ]
    },
    {
      "cell_type": "markdown",
      "metadata": {
        "id": "eIxn2Rqb8xNe",
        "colab_type": "text"
      },
      "source": [
        "Klucz prywatny służy do szyfrowania i deszyfrowania wiadomości pomiędzy użytkownikami. Zazwyczaj jest on wartością określającą, którą wielokrotnością danego punktu **g** jest przedstawiony punkt.\n",
        "Na przykładzie poniżej mamy dany punkt g, oraz drugi punkt określany jako **?g**, gdzie **?** oznacza pewną wielokrotność punktu g. Może być to zarówno 5g jak i 10g jak i 1000g.\n",
        "\n",
        "Z powodu charakterystyki budowy krzywych eliptycznych przedstawionych powyżej, poprawne odgadnięcie jaką wartość ma zmienna N, jest niezwykle czasochłonne i wymaga wielu obliczeń.\n",
        "\n",
        "\n",
        "Dla większych krzywych jest to niemal niemożliwe i tak skomplikowane, że nieopłacalne.\n",
        "\n"
      ]
    },
    {
      "cell_type": "markdown",
      "metadata": {
        "id": "EfRPSqU7986J",
        "colab_type": "text"
      },
      "source": [
        "![alt text](https://drive.google.com/uc?id=1yheByQpjiKpSFupjjQJ4eeocXGES6E4i)"
      ]
    },
    {
      "cell_type": "markdown",
      "metadata": {
        "id": "m59dJ9YJglL5",
        "colab_type": "text"
      },
      "source": [
        "## Krzywe eliptyczne na skończonej płaszczyźnie\n",
        "\n",
        "Przy wyznaczaniu kolejnych punktów na krzywych eliptycznych stosowanych w kryptografii, często stosuje się ograniczanie płaszczyzny krzywej (która normalnie ma nieskończony rozmiar). Dzięki temu, algorymty mogą wyznaczyć współrzędne kolejnych punktów danej krzywej. Stosuje się do tego algorytm [Schoof'a](https://en.wikipedia.org/wiki/Schoof%27s_algorithm). Znajomość ilości punktów na krzywej eliptycznej w ograniczonej płaszczyźnie jest ważna podczas oceniania poziomu skomplikowania i bezpieczeństwa danej krzywej.\n",
        "\n",
        "Należy pamiętać, iż na płaszczyznach poniżej zaznaczone są punkty afiniczne, zaś sama płaszczyzna nazywana jest płaszczyzną [afiniczną](https://en.wikipedia.org/wiki/Affine_space) służącą do operacji na wektorach i punktach. Mimo iż gołym okiem można zobaczyć symetrię oraz wzory punktów, nie są one reprezentantami krzywej na płaszczyźnie euklidesowej. \n",
        "\n",
        "Upraszczając, takie punkty afiniczne przez krzywą wyznaczane są stosując arytmetykę modularną. Następuje zatem utworzenie płaszczyzny, w której oś x oraz y \"zawijają się\" - podobnie jak to jest w przypadku wartości zmiennych w siatce Karnaugha. Miejsce, w którym następuje zawinięcie, określa modulnik operacji, który jest stały dla całej krzywej i nazywa się polem.\n",
        "\n",
        "Poniżej zaprezentowano przykład takiej płaszczyzny. Należy jednak zaznaczyć, że współrzędne tych punktów należą do liczb całkowitych."
      ]
    },
    {
      "cell_type": "code",
      "metadata": {
        "id": "XCU2veeXh5pf",
        "colab_type": "code",
        "outputId": "c49313ea-c9c9-4eb9-bb57-5ab82b429f4d",
        "colab": {
          "base_uri": "https://localhost:8080/",
          "height": 707,
          "referenced_widgets": [
            "3bf4ae70af054a0294bada972097db66",
            "bb6af5eba4d04818bbb261ea022b9996",
            "3cf2695b650d4a1ca1a1a1eeeef03f4d",
            "3cdbe5cec29e40a6bceb963d4f715830",
            "52f96f0be72e444b8a2c9c4517d4671e",
            "4b55308f6b9a4373be7566565b11466f",
            "c9c32b6c2af74a9baf90164dbe5f397e",
            "baf72bca400e473488e5ecd5cc6a8ecf",
            "01e0c13cfa4c4e0aa48061df56f698e1",
            "d22691ea5ad343dda2710bffac4294a8",
            "4aa82e4d714543cebdfcfb0224c23706",
            "4c7886e5dddd4f1697dd670d6f6e7740",
            "d85648afd0e746a09ee10cda3a09a3f1"
          ]
        }
      },
      "source": [
        "y, x = np.ogrid[-5:5:100j, -5:5:100j]\n",
        "\n",
        "# Funkcja wspomagająca formatowanie\n",
        "def sign_format(a):\n",
        "    return \"- %g\" % (a*(-1)) if a < 0 else \"+ %g\" % a \n",
        "\n",
        "# Funkcja rysująca krzywą w przestrzeni euklidesowej\n",
        "def draw_normal(a, b):\n",
        "  basic_curve = pow(y, 2) - pow(x, 3) - x * a - b\n",
        "  plt.contour(x.ravel(), y.ravel(), basic_curve, [0]) #tutaj wpisac jaka krzywa do wyrysowania\n",
        "  plt.grid()\n",
        "  signb = \"\" if b < 0 else \"+\"\n",
        "\n",
        "# Funkcja rysująca punkty o współrzędnych całkowitych w przestrzeni afinicznej\n",
        "def draw_afinic(a, b, f):\n",
        "  with warnings.catch_warnings(): # Pomijanie ostrzeżeń\n",
        "    warnings.simplefilter(\"ignore\")\n",
        "\n",
        "    field = ec.SubGroup(f, (0,0), 1, 1) # Generowanie przestrzeni afinicznej\n",
        "    curve = ec.Curve(a, b, field) # Generowanie krzywej w tej przestrzeni\n",
        "    coordinates = [] # Kontener na współrzędne\n",
        "\n",
        "    # Przeszukiwanie współrzędnych całkowitych od 0 do rozmiaru pola za punktami leżącymi na krzywej\n",
        "    for x in range(f):\n",
        "      for y in range(f):\n",
        "        p = ec.Point(curve, x, y)\n",
        "        if p.on_curve:\n",
        "          coordinates.append((x, y))\n",
        "\n",
        "  # Wyrysowanie punktów\n",
        "  plt.scatter(list(x[0] for x in coordinates), list(x[1] for x in coordinates))\n",
        "\n",
        "def g(a, b, field):\n",
        "  plt.figure(figsize=(10, 10)) # Przeskalowanie wykresu\n",
        "  plt.subplot(211) # Utworzenie pierwszego podwykresu\n",
        "\n",
        "  # Ustawienie tytułu\n",
        "  plt.title(f\"$y^2 = x^3 {sign_format(a)} \\cdot x {sign_format(b)}\\ field = {field}$\")\n",
        "  draw_normal(a,b)\n",
        "  plt.subplot(212) # Utworzenie drugiego podwykresu\n",
        "  draw_afinic(a, b, field)\n",
        "  plt.show()\n",
        "\n",
        "# Interaktywne wyświetlanie wykresu z suwakami\n",
        "l = interactive(g, a=(-5, 5, 0.1), b=(-5, 5, 0.1), field=(1, 100, 1))\n",
        "display(l)"
      ],
      "execution_count": 0,
      "outputs": [
        {
          "output_type": "display_data",
          "data": {
            "application/vnd.jupyter.widget-view+json": {
              "model_id": "3bf4ae70af054a0294bada972097db66",
              "version_minor": 0,
              "version_major": 2
            },
            "text/plain": [
              "interactive(children=(FloatSlider(value=0.0, description='a', max=5.0, min=-5.0), FloatSlider(value=0.0, descr…"
            ]
          },
          "metadata": {
            "tags": []
          }
        }
      ]
    },
    {
      "cell_type": "markdown",
      "metadata": {
        "id": "gMiXbxQFx61U",
        "colab_type": "text"
      },
      "source": [
        "W celu graficznego przedstawienia, omówimy poniżej przykład krzywej **$y^2$ = $x^3$ - x + 1**, nazwijmy ją krzywa **E**. Oto jej wykres na płaszczyźnie euklidesowej.\n",
        "\n",
        "\n",
        "![alt text](https://drive.google.com/uc?id=1wp53ppsVxNT6ojwaEdVoyNjk_63MC_Z5)\n",
        "\n",
        "Teraz wyświetlmy przedstawienie dokładnie tej samej krzywej, rzuconą na płaszczyznę afiniczną o skończonym polu wartości 97.\n",
        "\n",
        "![alt text](https://drive.google.com/uc?id=1xjRdktT80IpTezPre-7SfJ5_Uwjjge4F)\n",
        "\n",
        "Choć na pierwszy rzut oka, może wydawać się, iż są to dwa, zupełnie różne wykresy, to tak naprawdę zmienia się tylko płaszczyzna, na której wyrysowana jest krzywa eliptyczna **E**. Wyobraźmy sobie, że płaszczyzna na której oryginalnie krzywa była wyrysowana, jest niejako zawijana na krawędziach wyznaczających pole skończone (tutaj o wartości 97), gdy się przyjrzymy widać nawet dokładną symetrię wzdłuż osi X. Najlepiej charakter 'zawijania' przestrzeni zobrazuje poniższa grafika. Płaszczyzna widoczna poniżej jest zaś 'wyprostowanym' wykresem, niczym mapa ziemi reprezentująca cały glob na płaskiej powierzchni.\n",
        "\n",
        "![alt text](https://drive.google.com/uc?id=1LH742jSokRRjNim3tNHMRg27GQaxrgJE)\n",
        "\n",
        "Wracając do płaszczyzny afinicznej, wszystkie punkty oznaczone kolorem niebieskim przedstawiają miejsca w któych koordynaty krzywej osiągają pełne wartości, np. (70,6),(76,48). Dzięki zastosowaniu płaszczyzny skończonej, możliwe jest wyznaczanie kolejnych punktów dzięki temu samemu schematowi pokazanemu we wcześniejszym schemacie na płaszczyźnie euklidesowej.\n",
        "\n",
        "![alt text](https://drive.google.com/uc?id=1xsSRUTkBNMI1CeVuO2snJ1c9MckQaKvZ)\n",
        "\n",
        "\n",
        "\n",
        "Poniżej możemy zobaczyć przykład zbioru punktów afinicznych krzywej **$y^2 = x^3 - x$**, na skończonej płaszczyźnie oznaczonej jako F61 gdzie cyfra oznacza zakres osi X oraz Y.\n",
        "\n",
        "![alt text](https://drive.google.com/uc?id=1c_W6YZXA2T7SmqjWXuuc2KlMgjRd1dn5)\n",
        "\n",
        "Dzięki zastosowaniu tego (nieintuicyjnego) sposobu prezentacji krzywych eliptycznych, możemy zaprezentować wiadomość jako zbiór punktów na krzywej. \n",
        "Kryptografię krzywych eliptycznych można sprowadzić do wybrania liczby pierwszej jako maksimum, równania krzywej i jakiegoś punktu będącego wartością publiczną. \n",
        "\n",
        "Następnie wybieramy kluczy prywatny **R**, będący dużym numerem, oraz klucz publiczny, będący wcześniejszą wartością publiczną pomnożoną przez samą siebie **R** razy. Zadanie i trudność związana z obliczeniem klucza prywatnego z klucza publicznego nazywana jest funkcją dyskretnego logarytmu krzywych eliptycznych. \n",
        "\n"
      ]
    },
    {
      "cell_type": "markdown",
      "metadata": {
        "id": "-GCaNoC4euGW",
        "colab_type": "text"
      },
      "source": [
        "## Bezpieczeństwo krzywych eliptycznych\n",
        "\n",
        "Wykorzystując kwantowy algorytm [Shor'a](https://en.wikipedia.org/wiki/Shor%27s_algorithm), możliwe jest złamanie szyfrowania krzywych eliptycznych wykorzystując kwantowe komputery. Estymuje się, że aby złamać kod o długości 128-bitów wymagane byłoby wykorzystanie komputera posiadającego 2330 bity kwantowe.\n",
        "Dla porównania złamanie szyfrowania RSA o długości 2048 bitów wymagałoby wykorzystania 4098 bitów kwantowych.\n",
        "Obecnie, najpotężniejszy komputer kwantowy wyposażony jest w 53 bity, więc złamanie tych szyfrowań za pomocą działań algorytmicznych przez najbliższe dekady nie będzie prawdopodobnie możliwe."
      ]
    },
    {
      "cell_type": "markdown",
      "metadata": {
        "id": "ULOunLIBlZOk",
        "colab_type": "text"
      },
      "source": [
        "# Najpopularniejsze krzywe elitpyczne"
      ]
    },
    {
      "cell_type": "markdown",
      "metadata": {
        "id": "L4xr705ylfm8",
        "colab_type": "text"
      },
      "source": [
        "Większość profesjonalnie używanych krzywych eliptycznych, z wiadomych względów, jest utajona oraz objęta patentami, jednak część powszechnie używanych dostępna jest do publicznego badania i wykorzystania. Oto dwie, obecnie najpopularniejsze."
      ]
    },
    {
      "cell_type": "markdown",
      "metadata": {
        "id": "Q7YxHUCdmEg2",
        "colab_type": "text"
      },
      "source": [
        "## Krzywa 25519\n",
        "\n",
        "Jest jedną z najszybszych do obliczenia krzywych, oferuje 128 bitów i została specjalnie zaprojektowana do współpracowania z algorytmem wymiany Diffie-Hellmana(DH). W ostatnich latach, w związku z skandalem w agencji NSA Stanów Zjednoczonych, znacząco zyskała na popularności zastępując używaną dotychczas krzywą P-256. \n",
        "W 2014 **25519** stała się standardem wymiany DH w protokole OpenSSH, w 2017 została zaakceptowana jako jedna z krzywych używanych do szyfrowania komunikacji przez instytucje USA.\n",
        "\n",
        "![alt text](https://drive.google.com/uc?id=1rhrWzNSSwvFkAz4l2ageaprXepnb0XOD)"
      ]
    },
    {
      "cell_type": "markdown",
      "metadata": {
        "id": "Rf6MCMIToOom",
        "colab_type": "text"
      },
      "source": [
        "## Krzywa Secp256k1\n",
        "\n",
        "Na pierwszy rzut oka niewyróżniająca się, będąca jednak jedną z najważniejszych i najpopularniejszych krzywych na świecie. Ze względu na swoją wysoką wydajność przy obliczeniach oraz bezpieczeństwo, została wybrano jako podstawowa metoda obliczania kluczy podczas wymiany kryptowaluty **Bitcoin**. \n",
        "\n",
        "Większość krzywych używanych w kryptografii zawiera w sobie pewien stopień losowości, jednak Secp256k1 została stworzona żeby być przewidywalną, w celu zmniejszenia szansy na zaimplementowanie w niej jakiegoś rodzaju backdoora.\n",
        "\n",
        "\n",
        "![alt text](https://drive.google.com/uc?id=1IXx7dv62pfQRq7wRaYbc_Unb1n6iLTHC)"
      ]
    },
    {
      "cell_type": "markdown",
      "metadata": {
        "id": "oboQ4qe1H9Tm",
        "colab_type": "text"
      },
      "source": [
        "Więcej krzywych, wraz z ich opisami można znaleźć na: https://safecurves.cr.yp.to\".\n",
        "\n",
        "W poniższych przykładach zostanie użyta krzywa brainpoolIP384t1."
      ]
    },
    {
      "cell_type": "markdown",
      "metadata": {
        "id": "sL2nrmH9rVia",
        "colab_type": "text"
      },
      "source": [
        "# **Kod ECC (cryptographic elliptic curve)**"
      ]
    },
    {
      "cell_type": "markdown",
      "metadata": {
        "id": "zKHx-mZjd_iA",
        "colab_type": "text"
      },
      "source": [
        "## Generowanie kluczy \n"
      ]
    },
    {
      "cell_type": "markdown",
      "metadata": {
        "id": "uKKMaxkfehh9",
        "colab_type": "text"
      },
      "source": [
        "### Generowanie za pomocą biblioteki tinyec oraz secrets"
      ]
    },
    {
      "cell_type": "markdown",
      "metadata": {
        "id": "KKQmFGj5LzWh",
        "colab_type": "text"
      },
      "source": [
        "Poniżej generujemy parę kluczy dla odbiorcy przy pomocy kryptografii krzywych eliptycznych (krzywa brainpoolP256r-1), następnie zaś generujemy współdzielony sekretny klucz (do szyfrowania) i klucz publiczny zaszyfrowanego tekstu (dla [ECDH](\"https://en.wikipedia.org/wiki/Elliptic-curve_Diffie–Hellman\")) z klucza publicznego odbiorcy. Później generujemy ten sam współdzielony sekretny klucz(do deszyfracji) z prywatnego klucza odbiorcy i klucza publicznego tekstu.\n",
        "\n",
        "Kod ma za zadanie zobrazować, że jesteśmy w stanie wygenerować parę kluczy(sekretny + publiczny wiadomości) za pomocą podanego punktu danej krzywej eliptycznej, zaś później możemy odtworzyć dokładnie ten sam klucz przy pomocy pary kluczy (publiczny wiadomości + prywatny odbiorcy)"
      ]
    },
    {
      "cell_type": "code",
      "metadata": {
        "id": "DWg_1AZVeV3u",
        "colab_type": "code",
        "colab": {}
      },
      "source": [
        "## Funckje do komórki niżej\n",
        "\n",
        "brain_curve = registry.get_curve('brainpoolP256r1') # wczytanie okreslonej krzywej\n",
        "\n",
        "\n",
        "# kompresja współrzędnych punktu (x,y) do postaci jednej wartości szesnastkowej\n",
        "def compress_point(point):\n",
        "    return hex(point.x) + hex(point.y % 2)[2:]\n",
        "\n",
        "# obliczanie kluczy szyfrujących\n",
        "def ecc_calc_encryption_keys(pubKey):\n",
        "    ciphertextPrivKey = secrets.randbelow(brain_curve.field.n) # generowanie klucza prywatnego na podstawie krzywej\n",
        "    ciphertextPubKey = ciphertextPrivKey * brain_curve.g # klucz publiczny na podstawie prywatnego pomonzonego prze punkt generatora krzywej\n",
        "    sharedECCKey = pubKey * ciphertextPrivKey # wspoldzielony sekretny klucz\n",
        "    return (sharedECCKey, ciphertextPubKey)\n",
        "\n",
        "# obliczanie klucza wspołdzielonego sekretnego klucza\n",
        "def ecc_calc_decryption_key(privKey, ciphertextPubKey):\n",
        "    sharedECCKey = ciphertextPubKey * privKey\n",
        "    return sharedECCKey"
      ],
      "execution_count": 0,
      "outputs": []
    },
    {
      "cell_type": "code",
      "metadata": {
        "id": "0bvPBq9Ichqp",
        "colab_type": "code",
        "outputId": "5928325f-b9f1-43e8-98c2-074d51bcda73",
        "colab": {
          "base_uri": "https://localhost:8080/",
          "height": 101
        }
      },
      "source": [
        "privKey = secrets.randbelow(brain_curve.field.n) # analogicznie jak komorke wyzej generujemy klucz prywatny\n",
        "pubKey = privKey * brain_curve.g \n",
        "print(\"private key:\", hex(privKey))\n",
        "print(\"public key:\", compress_point(pubKey))\n",
        "\n",
        "(encryptKey, ciphertextPubKey) = ecc_calc_encryption_keys(pubKey) \n",
        "print(\"ciphertext pubKey:\", compress_point(ciphertextPubKey))\n",
        "print(\"encryption key:\", compress_point(encryptKey))\n",
        "\n",
        "decryptKey = ecc_calc_decryption_key(privKey, ciphertextPubKey)\n",
        "print(\"decryption key:\", compress_point(decryptKey))"
      ],
      "execution_count": 0,
      "outputs": [
        {
          "output_type": "stream",
          "text": [
            "private key: 0x9b8332444d36edb59186120733d8c331ae4c3c12f161d2a8806211219756ab2e\n",
            "public key: 0x6d4a5482940dd493385d2c4d56bd815ef57280528c03ea334f9da6eba024191a0\n",
            "ciphertext pubKey: 0x2b5a75049bed38f7d9f6f4eb2c4bf2e6e6127e119d65dd509afc3afe632840a91\n",
            "encryption key: 0x349d1863a77c5339f2a3c334a57d98b65515e61a7884c968658d0dd9ebabe9800\n",
            "decryption key: 0x349d1863a77c5339f2a3c334a57d98b65515e61a7884c968658d0dd9ebabe9800\n"
          ],
          "name": "stdout"
        }
      ]
    },
    {
      "cell_type": "markdown",
      "metadata": {
        "id": "nqbIWCFiuBbQ",
        "colab_type": "text"
      },
      "source": [
        "Należy zaznaczyć fakt, że biblioteka tinyec nie nadaje się do użycia produkcyjnego. Jest to biblioteka wyłącznie edukacyjna. Poniżej podane są przykłady bibliotek, które można wykorzystać w projektach. "
      ]
    },
    {
      "cell_type": "markdown",
      "metadata": {
        "id": "WXaPsCuGekkV",
        "colab_type": "text"
      },
      "source": [
        "### Generowanie za pomocą biblioteki fastedcsa"
      ]
    },
    {
      "cell_type": "code",
      "metadata": {
        "id": "b9BrfQrFFaKr",
        "colab_type": "code",
        "outputId": "19677742-f737-4b98-de97-6c381f4049ec",
        "colab": {
          "base_uri": "https://localhost:8080/",
          "height": 84
        }
      },
      "source": [
        "priv_key = keys.gen_private_key(curve.secp256k1)\n",
        "pub_key = keys.get_public_key(priv_key, curve.secp256k1)\n",
        "print(f\"Klucz publiczny krzywej: {pub_key}\\nKluczy prywatny: {priv_key}\")"
      ],
      "execution_count": 0,
      "outputs": [
        {
          "output_type": "stream",
          "text": [
            "Klucz publiczny krzywej: X: 0x737fc58238878aad7977c1b9a3ddec7f4880f3c2cb9dbc7373c2093577f23838\n",
            "Y: 0x274f241ef9bc94f73673cc14a47507b2a09e0b5d52c1e5a20cb89f1c0d1f2b98\n",
            "(On curve <secp256k1>)\n",
            "Kluczy prywatny: 5690907813090208776787406677933837151611769834352404146188327869891793290324\n"
          ],
          "name": "stdout"
        }
      ]
    },
    {
      "cell_type": "code",
      "metadata": {
        "id": "yYa538zP9RcV",
        "colab_type": "code",
        "outputId": "83e66c71-7f9e-426b-f63a-6dfe26c7d5b9",
        "colab": {
          "base_uri": "https://localhost:8080/",
          "height": 34
        }
      },
      "source": [
        "messeage = b\"Ala ma kota\"\n",
        "\n",
        "#domyslne szyfrowanie biblioteki fastecdsa - P256 i SHA2\n",
        "priv_key = keys.gen_private_key(curve.P256)\n",
        "pub_key = keys.get_public_key(priv_key, curve.P256)\n",
        "\n",
        "# podpisywanie wiadomości, zwraca 2 wartości całkowitoliczbowe\n",
        "r,s = ecdsa.sign(messeage, priv_key)\n",
        "# walidacja poprawności sygnatury klucza, powinno zwrócić True\n",
        "valid = ecdsa.verify((r,s), messeage, pub_key)\n",
        "print(f\"Sygnatura jest poprawana: {valid}\")\n"
      ],
      "execution_count": 0,
      "outputs": [
        {
          "output_type": "stream",
          "text": [
            "Sygnatura jest poprawana: True\n"
          ],
          "name": "stdout"
        }
      ]
    },
    {
      "cell_type": "markdown",
      "metadata": {
        "id": "uK-HeR1itgDr",
        "colab_type": "text"
      },
      "source": [
        "## Zapis i odczyt tworzonych kluczy z/do pliku"
      ]
    },
    {
      "cell_type": "code",
      "metadata": {
        "id": "X0DrK3N_-zk_",
        "colab_type": "code",
        "outputId": "21571bbb-57f2-4872-a164-e478eafb6181",
        "colab": {
          "base_uri": "https://localhost:8080/",
          "height": 218
        }
      },
      "source": [
        "priv, public = keys.gen_keypair(curve.secp256k1) # od razu generuje publiczny i prywatny klucz\n",
        "\n",
        "keys.export_key(priv, curve=curve.secp256k1, filepath='/secp256k1.key') # zapisze na dysku maszyny colab!\n",
        "keys.export_key(public,curve=curve.secp256k1, filepath='/secp256k1.pub')\n",
        "\n",
        "## odczyt z pliku do zmiennych:\n",
        "# wczytujemy do dwóch zmiennych, jeśli odczytujemy klucz prywatny to pierwsza będzie wartością klucza, \n",
        "# drugą będzie wartościami x/y określającymi miejsce tej wartości na krzywej(kluczem publicznym)\n",
        "parsed_priv, point = keys.import_key('/secp256k1.key')\n",
        "print(f\"Wczytany klucz prywatny to {parsed_priv} \\nNatomiast wartości tego punktu na krzywej wynoszą:\\n{point}\")\n",
        "\n",
        "# Jeśli odczytujemy tylko klucz publiczny, pierwsza wartość wyniesie None, zapewnia to dodatkowe bezpieczeństwo\n",
        "parsed_priv, point = keys.import_key('/secp256k1.pub')\n",
        "print(f\"\\n\\nWczytany klucz prywatny to {parsed_priv} \\nNatomiast wartości tego punktu na krzywej wynoszą:\\n{point}\")\n"
      ],
      "execution_count": 0,
      "outputs": [
        {
          "output_type": "stream",
          "text": [
            "Wczytany klucz prywatny to 26050088249531758203048464788284957184462680351141457887272198764383414269746 \n",
            "Natomiast wartości tego punktu na krzywej wynoszą:\n",
            "X: 0xc9ef028dec722cb7ca648c3b45dc59f976ef96bb39eed37d149ff6838d4b5805\n",
            "Y: 0xaa107eb23eb736709c0edf073a3b394b2eb5e35def0eeea32c0b8cbe0ed16338\n",
            "(On curve <secp256k1>)\n",
            "\n",
            "\n",
            "Wczytany klucz prywatny to None \n",
            "Natomiast wartości tego punktu na krzywej wynoszą:\n",
            "X: 0xc9ef028dec722cb7ca648c3b45dc59f976ef96bb39eed37d149ff6838d4b5805\n",
            "Y: 0xaa107eb23eb736709c0edf073a3b394b2eb5e35def0eeea32c0b8cbe0ed16338\n",
            "(On curve <secp256k1>)\n"
          ],
          "name": "stdout"
        }
      ]
    },
    {
      "cell_type": "markdown",
      "metadata": {
        "id": "N3bi341re-XJ",
        "colab_type": "text"
      },
      "source": [
        "### Generowanie kluczy za pomocą biblioteki ecpy"
      ]
    },
    {
      "cell_type": "code",
      "metadata": {
        "id": "FCfrGOker0Tt",
        "colab_type": "code",
        "colab": {}
      },
      "source": [
        "from ecpy.curves     import Curve,Point\n",
        "from ecpy.keys       import ECPublicKey, ECPrivateKey\n",
        "from ecpy.ecdsa      import ECDSA\n",
        "\n",
        "cv   = Curve.get_curve('secp256k1')\n",
        "pu_key = ECPublicKey(Point(0x65d5b8bf9ab1801c9f168d4815994ad35f1dcb6ae6c7a1a303966b677b813b00,\n",
        "                       0xe6b865e529b8ecbf71cf966e900477d49ced5846d7662dd2dd11ccd55c0aff7f,\n",
        "                       cv))\n",
        "pv_key = ECPrivateKey(0xfb26a4e75eec75544c0f44e937dcf5ee6355c7176600b9688c667e5c283b43c5,\n",
        "                  cv)\n",
        "\n",
        "\n",
        "signer = ECDSA()\n",
        "sig    = signer.sign(b'01234567890123456789012345678912',pv_key)\n",
        "assert(signer.verify(b'01234567890123456789012345678912',sig,pu_key))"
      ],
      "execution_count": 0,
      "outputs": []
    },
    {
      "cell_type": "markdown",
      "metadata": {
        "id": "9DfIUcEDfKxQ",
        "colab_type": "text"
      },
      "source": [
        "## Szyfrowanie oraz deszyfrowanie wiadomości - biblioteki tinyec, secrets, haslib, Cipher"
      ]
    },
    {
      "cell_type": "markdown",
      "metadata": {
        "id": "KvllKmc2B3FB",
        "colab_type": "text"
      },
      "source": [
        "Poniżej przedstawiono pełny kod hybrydowego szyfrowania [ECC](https://en.wikipedia.org/wiki/Elliptic-curve_cryptography)/[AES](\"https://pl.wikipedia.org/wiki/Advanced_Encryption_Standard\"), Schemat działania wygląda następująco:\n",
        "- Początkowo generujemy parę kluczy ECC dla odbiorcy wiadomości, zostaną one użyte do hybrydowego(asymetryczne ECC i symetryczne AES) zaszyfrowania wiadomości msg i późniejszego jej odszyfrowania. \n",
        "- Następnie szyfrujemy **msg** za pomocą **pubKey**, i w rezultacie otrzymujemy zmienne **ciphertext, nonce, authTag, cipgertextPubKey** jako output.\n",
        "  - ciphertext: zaszyfrowany tekst przez symetryczny losowy wektor AES.\n",
        "  - authTag: kod MAC zaszyfrowanego tekstu\n",
        "  - ciphertextPubKey: losowo wygenerowany klucz publiczny tekstu wysyłany razem z wiadomością, wykorzystywany do wygenerowania klucza AES przez odbiorcę.\n",
        "- funkcja **encrypt_ECC(msg, pubKey)** generuje parę kluczy ECC oraz oblicza szyfrowanie klucza współdzielonego **sharedECCKey**, który jest punktem na krzywej eliptycznej. Jest on następnie zmieniany na 256-bitowy klucz AES poprzez haszowanie jego punktów x i y do jednej zmiennej.\n",
        "- Odszyfrowanie wiadomości przebiega w odwróconej kolejności, najpierw obliczamy współdzielony symetryczny klucz ECC, następnie jest on również haszowany do 256 bitów, kolejnym krokiem jest użycie szyfru **AES-256-GCN** do odszyfrowania tekstu składającego się z **ciphertext + nonce + authTag** dzięki współdzielonemu sekretnemu kluczu.\n",
        "- Wynikiem tych skomplikowanych operacji jest otrzymanie zwykłego tekstu zawierającego nadaną wiadomość."
      ]
    },
    {
      "cell_type": "code",
      "metadata": {
        "id": "h7bYaBLtfqxg",
        "colab_type": "code",
        "colab": {}
      },
      "source": [
        "# funkcję do komórki niżej\n",
        "\n",
        "def encrypt_AES_GCM(msg, secretKey):\n",
        "    aesCipher = AES.new(secretKey, AES.MODE_GCM) # wygenerowanie szyfrowania AES\n",
        "    ciphertext, authTag = aesCipher.encrypt_and_digest(msg) # zaszyfrowanie wiadomości\n",
        "    return (ciphertext, aesCipher.nonce, authTag) \n",
        "\n",
        "def decrypt_AES_GCM(ciphertext, nonce, authTag, secretKey):\n",
        "    aesCipher = AES.new(secretKey, AES.MODE_GCM, nonce) # tym razem z dodatkowym argumentem żeby pokrywał się z pierwszym szyfrowaniem\n",
        "    plaintext = aesCipher.decrypt_and_verify(ciphertext, authTag)\n",
        "    return plaintext\n",
        "\n",
        "def ecc_point_to_256_bit_key(point):\n",
        "    sha = hashlib.sha256(int.to_bytes(point.x, 32, 'big')) # hashowanie przesłanego punktu do 256-bitowego klucza\n",
        "    sha.update(int.to_bytes(point.y, 32, 'big')) # zmniana z int na bajty\n",
        "    return sha.digest()\n",
        "    \n",
        "def encrypt_ECC(msg, pubKey): # szyfrowanie asymetryczne z użyciem krzywych eliptycznych\n",
        "    ciphertextPrivKey = secrets.randbelow(curve.field.n) # generowanie klucza prywatnego jako wartości punktu z krzywej eliptycznej\n",
        "    sharedECCKey = ciphertextPrivKey * pubKey # wyliczenie klucza publicznego\n",
        "    secretKey = ecc_point_to_256_bit_key(sharedECCKey) # wywołanie funkcji hashującej klucz prywatny\n",
        "    ciphertext, nonce, authTag = encrypt_AES_GCM(msg, secretKey) # wywołanie funkcji szyfrującej wiadomość \n",
        "    ciphertextPubKey = ciphertextPrivKey * curve.g # stworzenie klucza publicznego zaszyfrowanej wiadomości\n",
        "    return (ciphertext, nonce, authTag, ciphertextPubKey)\n",
        "\n",
        "def decrypt_ECC(encryptedMsg, privKey):\n",
        "    (ciphertext, nonce, authTag, ciphertextPubKey) = encryptedMsg # w zasadzie odwrócenie kolejności działań powyższej funkcji\n",
        "    sharedECCKey = privKey * ciphertextPubKey\n",
        "    secretKey = ecc_point_to_256_bit_key(sharedECCKey)\n",
        "    plaintext = decrypt_AES_GCM(ciphertext, nonce, authTag, secretKey)\n",
        "    return plaintext"
      ],
      "execution_count": 0,
      "outputs": []
    },
    {
      "cell_type": "code",
      "metadata": {
        "id": "2v8FOUV0fRrn",
        "colab_type": "code",
        "outputId": "abc33b3e-9ca9-4bc8-bc84-5e4c843cdd3a",
        "colab": {
          "base_uri": "https://localhost:8080/",
          "height": 87
        }
      },
      "source": [
        "curve = registry.get_curve('brainpoolP256r1') # wczytujemy wzór odpowiedniej krzywej eliptycznej\n",
        "\n",
        "msg = b'Ala ma kota' # wiadomość, litera 'b' oznacza zapisanie do zmiennej typu bytes zamiast typowego stringa\n",
        "print(\"oryginalna wiadomość:\", msg)\n",
        "privKey = secrets.randbelow(curve.field.n) # wartość klucza prywatnego pobieramy jako losową_poniżej(krzywa.wielkość_płaszczyzny.punkty)\n",
        "pubKey = privKey * curve.g # obliczanie klucza publicznego\n",
        "\n",
        "encryptedMsg = encrypt_ECC(msg, pubKey) # wywołanie funkcji z komórki powyżej\n",
        "encryptedMsgObj = {\n",
        "    'ciphertext': binascii.hexlify(encryptedMsg[0]), # ta i poniższe komendy mają za zadanie zwrócić szesnastkową wersję danych binarnych\n",
        "    'nonce': binascii.hexlify(encryptedMsg[1]),\n",
        "    'authTag': binascii.hexlify(encryptedMsg[2]),\n",
        "    'ciphertextPubKey': hex(encryptedMsg[3].x) + hex(encryptedMsg[3].y % 2)[2:]\n",
        "}\n",
        "print(\"zaszyfrowana wiadomość:\", encryptedMsgObj) \n",
        "\n",
        "decryptedMsg = decrypt_ECC(encryptedMsg, privKey) # wywołanie funkcji z komórki powyżej\n",
        "print(\"poprawnie odszyfrowana wiadomość:\", decryptedMsg)\n"
      ],
      "execution_count": 0,
      "outputs": [
        {
          "output_type": "stream",
          "text": [
            "oryginalna wiadomość: b'Ala ma kota'\n",
            "zaszyfrowana wiadomość: {'ciphertext': b'3d1541b7718a33d1b26ab8', 'nonce': b'60075a443c03c7354f14159f26a97cf4', 'authTag': b'd60c4aa770d1f9a6912b0c5b4475c86c', 'ciphertextPubKey': '0x370ea84aa9432215107e17ad8d8a84a328c11a8ffb3d17c609650551bbaf0f161'}\n",
            "poprawnie odszyfrowana wiadomość: b'Ala ma kota'\n"
          ],
          "name": "stdout"
        }
      ]
    },
    {
      "cell_type": "markdown",
      "metadata": {
        "id": "9LljLJBPwtVr",
        "colab_type": "text"
      },
      "source": [
        "# Materiały do dalszej nauki"
      ]
    },
    {
      "cell_type": "markdown",
      "metadata": {
        "id": "6Zxd4H0twzF7",
        "colab_type": "text"
      },
      "source": [
        "https://asecuritysite.com/encryption/ecdh3 - na tej stronie możemy szybko sprawdzić przykłady szyfrowania wraz z wypisaniem wygenerowanych wartości, dla wielu najpopularniejszych krzywych"
      ]
    },
    {
      "cell_type": "markdown",
      "metadata": {
        "id": "_qDS202cozHy",
        "colab_type": "text"
      },
      "source": [
        "# Konwerter do formatu PDF"
      ]
    },
    {
      "cell_type": "code",
      "metadata": {
        "id": "WX8QmMZKnp82",
        "colab_type": "code",
        "outputId": "ce477737-8a41-4aa2-b497-6b36361f3026",
        "colab": {
          "base_uri": "https://localhost:8080/",
          "height": 332
        }
      },
      "source": [
        "# Należy czytać output,  w pewnym momencie poprosi o wejście w podany link i skopiowanie kodu autoryzacji żeby móc zapisać pdf na swoim dysku drive\n",
        "!apt-get install texlive texlive-xetex texlive-latex-extra pandoc\n",
        "!pip install pypandoc\n",
        "from google.colab import drive\n",
        "drive.mount('/content/drive')\n",
        "!cp drive/My Drive/Colab Notebooks/krzywe_eliptyczne.ipynb ./\n",
        "!pwd\n",
        "!jupyter nbconvert --to PDF \"krzywe_eliptyczne.ipynb\""
      ],
      "execution_count": 0,
      "outputs": [
        {
          "output_type": "stream",
          "text": [
            "Reading package lists... Done\n",
            "Building dependency tree       \n",
            "Reading state information... Done\n",
            "pandoc is already the newest version (1.19.2.4~dfsg-1build4).\n",
            "texlive is already the newest version (2017.20180305-1).\n",
            "texlive-latex-extra is already the newest version (2017.20180305-2).\n",
            "texlive-xetex is already the newest version (2017.20180305-1).\n",
            "0 upgraded, 0 newly installed, 0 to remove and 32 not upgraded.\n",
            "Requirement already satisfied: pypandoc in /usr/local/lib/python3.6/dist-packages (1.5)\n",
            "Requirement already satisfied: pip>=8.1.0 in /usr/local/lib/python3.6/dist-packages (from pypandoc) (19.3.1)\n",
            "Requirement already satisfied: wheel>=0.25.0 in /usr/local/lib/python3.6/dist-packages (from pypandoc) (0.34.2)\n",
            "Requirement already satisfied: setuptools in /usr/local/lib/python3.6/dist-packages (from pypandoc) (47.1.1)\n",
            "Drive already mounted at /content/drive; to attempt to forcibly remount, call drive.mount(\"/content/drive\", force_remount=True).\n",
            "cp: cannot stat 'drive/My': No such file or directory\n",
            "cp: cannot stat 'Drive/Colab': No such file or directory\n",
            "cp: cannot stat 'Notebooks/krzywe_eliptyczne.ipynb': No such file or directory\n",
            "/content\n"
          ],
          "name": "stdout"
        }
      ]
    },
    {
      "cell_type": "markdown",
      "metadata": {
        "id": "PAcsz3LR3jVQ",
        "colab_type": "text"
      },
      "source": [
        "# **Źródła**\n"
      ]
    },
    {
      "cell_type": "markdown",
      "metadata": {
        "id": "2yJ-GqSayJB9",
        "colab_type": "text"
      },
      "source": [
        "- Elliptic Curves - Computerphile: https://www.youtube.com/watch?v=NF1pwjL9-DE\n",
        "- Elliptic Curve Cryptography Tutorial - Understanding ECC through the Diffie-Hellman Key Exchange - https://www.youtube.com/watch?v=gAtBM06xwaw\n",
        "- Krzywe eliptyczne PL - https://pl.wikipedia.org/wiki/Krzywa_eliptyczna\n",
        "- wstęp do krzywych eliptycznych - https://qvault.io/2019/12/31/very-basic-intro-to-elliptic-curve-cryptography/\n",
        "- Linia czasu komputerów kwantowych - https://en.wikipedia.org/wiki/Timeline_of_quantum_computing\n",
        "- Krzywe eliptyczne - https://en.wikipedia.org/wiki/Elliptic-curve_cryptography\n",
        "- Algorytm Shor'a - https://en.wikipedia.org/wiki/Shor%27s_algorithm\n",
        "- Krzywa 25519 - https://en.wikipedia.org/wiki/Curve25519\n",
        "- secp256k1 https://en.bitcoin.it/wiki/Secp256k1\n",
        "- kryptografia EC - https://cryptobook.nakov.com/asymmetric-key-ciphers/ecc-encryption-decryption\n",
        "- post odnośnie krzywych na płaszczyznach skończonych - https://crypto.stackexchange.com/questions/66589/elliptic-curves-on-finite-fields\n",
        "- algorytm Schoof'a - https://en.wikipedia.org/wiki/Schoof%27s_algorithm\n",
        "- Płaszczyzna afiniczna - https://en.wikipedia.org/wiki/Affine_space\n",
        "- obliczenia na płaszczyznach skończoncych - https://andrea.corbellini.name/2015/05/23/elliptic-curve-cryptography-finite-fields-and-discrete-logarithms/\n",
        "- protokół wymiany ECDH - https://www.youtube.com/watch?v=F3zzNa42-tQ\n",
        "- streszczenie kryptografii EC - https://www.youtube.com/watch?v=dCvB-mhkT0w\n",
        "- Dodatkowy opis działań na płaszczyznach afinicznych ECC - https://fangpenlin.com/posts/2019/10/07/elliptic-curve-cryptography-explained/\n",
        "- AES - https://pl.wikipedia.org/wiki/Advanced_Encryption_Standard\n",
        "- ECC - https://cryptobook.nakov.com/asymmetric-key-ciphers/ecc-encryption-decryption\n"
      ]
    },
    {
      "cell_type": "code",
      "metadata": {
        "id": "4cEv0EheQX_w",
        "colab_type": "code",
        "colab": {}
      },
      "source": [
        ""
      ],
      "execution_count": 0,
      "outputs": []
    }
  ]
}